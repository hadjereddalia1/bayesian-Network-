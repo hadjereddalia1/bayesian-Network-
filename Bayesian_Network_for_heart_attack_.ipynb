{
  "nbformat": 4,
  "nbformat_minor": 0,
  "metadata": {
    "colab": {
      "provenance": []
    },
    "kernelspec": {
      "name": "python3",
      "display_name": "Python 3"
    },
    "language_info": {
      "name": "python"
    }
  },
  "cells": [
    {
      "cell_type": "markdown",
      "source": [
        "###**Pratical Task RC2**"
      ],
      "metadata": {
        "id": "eGgbei_HXfrU"
      }
    },
    {
      "cell_type": "markdown",
      "source": [
        "In this task, we will see the simulation of using the baysien network on real dataset and a real problem in the medical field, also doing inferences & dealing with conditional probabilistic tables."
      ],
      "metadata": {
        "id": "dfrI444QXmzE"
      }
    },
    {
      "cell_type": "markdown",
      "source": [
        "####Done by:\n",
        "Hadjer Eddalia"
      ],
      "metadata": {
        "id": "E1W0v4LboBdt"
      }
    },
    {
      "cell_type": "code",
      "execution_count": null,
      "metadata": {
        "colab": {
          "base_uri": "https://localhost:8080/"
        },
        "id": "oNFh0jFzSwhB",
        "outputId": "2f92ac58-ed57-46a3-ba3d-2b59d60c48bc"
      },
      "outputs": [
        {
          "output_type": "stream",
          "name": "stdout",
          "text": [
            "Collecting pgmpy\n",
            "  Downloading pgmpy-1.0.0-py3-none-any.whl.metadata (9.4 kB)\n",
            "Requirement already satisfied: networkx in /usr/local/lib/python3.11/dist-packages (from pgmpy) (3.4.2)\n",
            "Requirement already satisfied: numpy in /usr/local/lib/python3.11/dist-packages (from pgmpy) (2.0.2)\n",
            "Requirement already satisfied: scipy in /usr/local/lib/python3.11/dist-packages (from pgmpy) (1.15.3)\n",
            "Requirement already satisfied: scikit-learn in /usr/local/lib/python3.11/dist-packages (from pgmpy) (1.6.1)\n",
            "Requirement already satisfied: pandas in /usr/local/lib/python3.11/dist-packages (from pgmpy) (2.2.2)\n",
            "Requirement already satisfied: torch in /usr/local/lib/python3.11/dist-packages (from pgmpy) (2.6.0+cu124)\n",
            "Requirement already satisfied: statsmodels in /usr/local/lib/python3.11/dist-packages (from pgmpy) (0.14.4)\n",
            "Requirement already satisfied: tqdm in /usr/local/lib/python3.11/dist-packages (from pgmpy) (4.67.1)\n",
            "Requirement already satisfied: joblib in /usr/local/lib/python3.11/dist-packages (from pgmpy) (1.5.0)\n",
            "Requirement already satisfied: opt-einsum in /usr/local/lib/python3.11/dist-packages (from pgmpy) (3.4.0)\n",
            "Collecting pyro-ppl (from pgmpy)\n",
            "  Downloading pyro_ppl-1.9.1-py3-none-any.whl.metadata (7.8 kB)\n",
            "Requirement already satisfied: python-dateutil>=2.8.2 in /usr/local/lib/python3.11/dist-packages (from pandas->pgmpy) (2.9.0.post0)\n",
            "Requirement already satisfied: pytz>=2020.1 in /usr/local/lib/python3.11/dist-packages (from pandas->pgmpy) (2025.2)\n",
            "Requirement already satisfied: tzdata>=2022.7 in /usr/local/lib/python3.11/dist-packages (from pandas->pgmpy) (2025.2)\n",
            "Collecting pyro-api>=0.1.1 (from pyro-ppl->pgmpy)\n",
            "  Downloading pyro_api-0.1.2-py3-none-any.whl.metadata (2.5 kB)\n",
            "Requirement already satisfied: filelock in /usr/local/lib/python3.11/dist-packages (from torch->pgmpy) (3.18.0)\n",
            "Requirement already satisfied: typing-extensions>=4.10.0 in /usr/local/lib/python3.11/dist-packages (from torch->pgmpy) (4.13.2)\n",
            "Requirement already satisfied: jinja2 in /usr/local/lib/python3.11/dist-packages (from torch->pgmpy) (3.1.6)\n",
            "Requirement already satisfied: fsspec in /usr/local/lib/python3.11/dist-packages (from torch->pgmpy) (2025.3.2)\n",
            "Collecting nvidia-cuda-nvrtc-cu12==12.4.127 (from torch->pgmpy)\n",
            "  Downloading nvidia_cuda_nvrtc_cu12-12.4.127-py3-none-manylinux2014_x86_64.whl.metadata (1.5 kB)\n",
            "Collecting nvidia-cuda-runtime-cu12==12.4.127 (from torch->pgmpy)\n",
            "  Downloading nvidia_cuda_runtime_cu12-12.4.127-py3-none-manylinux2014_x86_64.whl.metadata (1.5 kB)\n",
            "Collecting nvidia-cuda-cupti-cu12==12.4.127 (from torch->pgmpy)\n",
            "  Downloading nvidia_cuda_cupti_cu12-12.4.127-py3-none-manylinux2014_x86_64.whl.metadata (1.6 kB)\n",
            "Collecting nvidia-cudnn-cu12==9.1.0.70 (from torch->pgmpy)\n",
            "  Downloading nvidia_cudnn_cu12-9.1.0.70-py3-none-manylinux2014_x86_64.whl.metadata (1.6 kB)\n",
            "Collecting nvidia-cublas-cu12==12.4.5.8 (from torch->pgmpy)\n",
            "  Downloading nvidia_cublas_cu12-12.4.5.8-py3-none-manylinux2014_x86_64.whl.metadata (1.5 kB)\n",
            "Collecting nvidia-cufft-cu12==11.2.1.3 (from torch->pgmpy)\n",
            "  Downloading nvidia_cufft_cu12-11.2.1.3-py3-none-manylinux2014_x86_64.whl.metadata (1.5 kB)\n",
            "Collecting nvidia-curand-cu12==10.3.5.147 (from torch->pgmpy)\n",
            "  Downloading nvidia_curand_cu12-10.3.5.147-py3-none-manylinux2014_x86_64.whl.metadata (1.5 kB)\n",
            "Collecting nvidia-cusolver-cu12==11.6.1.9 (from torch->pgmpy)\n",
            "  Downloading nvidia_cusolver_cu12-11.6.1.9-py3-none-manylinux2014_x86_64.whl.metadata (1.6 kB)\n",
            "Collecting nvidia-cusparse-cu12==12.3.1.170 (from torch->pgmpy)\n",
            "  Downloading nvidia_cusparse_cu12-12.3.1.170-py3-none-manylinux2014_x86_64.whl.metadata (1.6 kB)\n",
            "Requirement already satisfied: nvidia-cusparselt-cu12==0.6.2 in /usr/local/lib/python3.11/dist-packages (from torch->pgmpy) (0.6.2)\n",
            "Requirement already satisfied: nvidia-nccl-cu12==2.21.5 in /usr/local/lib/python3.11/dist-packages (from torch->pgmpy) (2.21.5)\n",
            "Requirement already satisfied: nvidia-nvtx-cu12==12.4.127 in /usr/local/lib/python3.11/dist-packages (from torch->pgmpy) (12.4.127)\n",
            "Collecting nvidia-nvjitlink-cu12==12.4.127 (from torch->pgmpy)\n",
            "  Downloading nvidia_nvjitlink_cu12-12.4.127-py3-none-manylinux2014_x86_64.whl.metadata (1.5 kB)\n",
            "Requirement already satisfied: triton==3.2.0 in /usr/local/lib/python3.11/dist-packages (from torch->pgmpy) (3.2.0)\n",
            "Requirement already satisfied: sympy==1.13.1 in /usr/local/lib/python3.11/dist-packages (from torch->pgmpy) (1.13.1)\n",
            "Requirement already satisfied: mpmath<1.4,>=1.1.0 in /usr/local/lib/python3.11/dist-packages (from sympy==1.13.1->torch->pgmpy) (1.3.0)\n",
            "Requirement already satisfied: threadpoolctl>=3.1.0 in /usr/local/lib/python3.11/dist-packages (from scikit-learn->pgmpy) (3.6.0)\n",
            "Requirement already satisfied: patsy>=0.5.6 in /usr/local/lib/python3.11/dist-packages (from statsmodels->pgmpy) (1.0.1)\n",
            "Requirement already satisfied: packaging>=21.3 in /usr/local/lib/python3.11/dist-packages (from statsmodels->pgmpy) (24.2)\n",
            "Requirement already satisfied: six>=1.5 in /usr/local/lib/python3.11/dist-packages (from python-dateutil>=2.8.2->pandas->pgmpy) (1.17.0)\n",
            "Requirement already satisfied: MarkupSafe>=2.0 in /usr/local/lib/python3.11/dist-packages (from jinja2->torch->pgmpy) (3.0.2)\n",
            "Downloading pgmpy-1.0.0-py3-none-any.whl (2.0 MB)\n",
            "\u001b[2K   \u001b[90m━━━━━━━━━━━━━━━━━━━━━━━━━━━━━━━━━━━━━━━━\u001b[0m \u001b[32m2.0/2.0 MB\u001b[0m \u001b[31m2.2 MB/s\u001b[0m eta \u001b[36m0:00:00\u001b[0m\n",
            "\u001b[?25hDownloading pyro_ppl-1.9.1-py3-none-any.whl (755 kB)\n",
            "\u001b[2K   \u001b[90m━━━━━━━━━━━━━━━━━━━━━━━━━━━━━━━━━━━━━━━━\u001b[0m \u001b[32m756.0/756.0 kB\u001b[0m \u001b[31m3.4 MB/s\u001b[0m eta \u001b[36m0:00:00\u001b[0m\n",
            "\u001b[?25hDownloading nvidia_cublas_cu12-12.4.5.8-py3-none-manylinux2014_x86_64.whl (363.4 MB)\n",
            "\u001b[2K   \u001b[90m━━━━━━━━━━━━━━━━━━━━━━━━━━━━━━━━━━━━━━━━\u001b[0m \u001b[32m363.4/363.4 MB\u001b[0m \u001b[31m1.9 MB/s\u001b[0m eta \u001b[36m0:00:00\u001b[0m\n",
            "\u001b[?25hDownloading nvidia_cuda_cupti_cu12-12.4.127-py3-none-manylinux2014_x86_64.whl (13.8 MB)\n",
            "\u001b[2K   \u001b[90m━━━━━━━━━━━━━━━━━━━━━━━━━━━━━━━━━━━━━━━━\u001b[0m \u001b[32m13.8/13.8 MB\u001b[0m \u001b[31m39.2 MB/s\u001b[0m eta \u001b[36m0:00:00\u001b[0m\n",
            "\u001b[?25hDownloading nvidia_cuda_nvrtc_cu12-12.4.127-py3-none-manylinux2014_x86_64.whl (24.6 MB)\n",
            "\u001b[2K   \u001b[90m━━━━━━━━━━━━━━━━━━━━━━━━━━━━━━━━━━━━━━━━\u001b[0m \u001b[32m24.6/24.6 MB\u001b[0m \u001b[31m38.3 MB/s\u001b[0m eta \u001b[36m0:00:00\u001b[0m\n",
            "\u001b[?25hDownloading nvidia_cuda_runtime_cu12-12.4.127-py3-none-manylinux2014_x86_64.whl (883 kB)\n",
            "\u001b[2K   \u001b[90m━━━━━━━━━━━━━━━━━━━━━━━━━━━━━━━━━━━━━━━━\u001b[0m \u001b[32m883.7/883.7 kB\u001b[0m \u001b[31m37.7 MB/s\u001b[0m eta \u001b[36m0:00:00\u001b[0m\n",
            "\u001b[?25hDownloading nvidia_cudnn_cu12-9.1.0.70-py3-none-manylinux2014_x86_64.whl (664.8 MB)\n",
            "\u001b[2K   \u001b[90m━━━━━━━━━━━━━━━━━━━━━━━━━━━━━━━━━━━━━━━━\u001b[0m \u001b[32m664.8/664.8 MB\u001b[0m \u001b[31m2.7 MB/s\u001b[0m eta \u001b[36m0:00:00\u001b[0m\n",
            "\u001b[?25hDownloading nvidia_cufft_cu12-11.2.1.3-py3-none-manylinux2014_x86_64.whl (211.5 MB)\n",
            "\u001b[2K   \u001b[90m━━━━━━━━━━━━━━━━━━━━━━━━━━━━━━━━━━━━━━━━\u001b[0m \u001b[32m211.5/211.5 MB\u001b[0m \u001b[31m6.0 MB/s\u001b[0m eta \u001b[36m0:00:00\u001b[0m\n",
            "\u001b[?25hDownloading nvidia_curand_cu12-10.3.5.147-py3-none-manylinux2014_x86_64.whl (56.3 MB)\n",
            "\u001b[2K   \u001b[90m━━━━━━━━━━━━━━━━━━━━━━━━━━━━━━━━━━━━━━━━\u001b[0m \u001b[32m56.3/56.3 MB\u001b[0m \u001b[31m12.4 MB/s\u001b[0m eta \u001b[36m0:00:00\u001b[0m\n",
            "\u001b[?25hDownloading nvidia_cusolver_cu12-11.6.1.9-py3-none-manylinux2014_x86_64.whl (127.9 MB)\n",
            "\u001b[2K   \u001b[90m━━━━━━━━━━━━━━━━━━━━━━━━━━━━━━━━━━━━━━━━\u001b[0m \u001b[32m127.9/127.9 MB\u001b[0m \u001b[31m7.4 MB/s\u001b[0m eta \u001b[36m0:00:00\u001b[0m\n",
            "\u001b[?25hDownloading nvidia_cusparse_cu12-12.3.1.170-py3-none-manylinux2014_x86_64.whl (207.5 MB)\n",
            "\u001b[2K   \u001b[90m━━━━━━━━━━━━━━━━━━━━━━━━━━━━━━━━━━━━━━━━\u001b[0m \u001b[32m207.5/207.5 MB\u001b[0m \u001b[31m5.2 MB/s\u001b[0m eta \u001b[36m0:00:00\u001b[0m\n",
            "\u001b[?25hDownloading nvidia_nvjitlink_cu12-12.4.127-py3-none-manylinux2014_x86_64.whl (21.1 MB)\n",
            "\u001b[2K   \u001b[90m━━━━━━━━━━━━━━━━━━━━━━━━━━━━━━━━━━━━━━━━\u001b[0m \u001b[32m21.1/21.1 MB\u001b[0m \u001b[31m86.9 MB/s\u001b[0m eta \u001b[36m0:00:00\u001b[0m\n",
            "\u001b[?25hDownloading pyro_api-0.1.2-py3-none-any.whl (11 kB)\n",
            "Installing collected packages: pyro-api, nvidia-nvjitlink-cu12, nvidia-curand-cu12, nvidia-cufft-cu12, nvidia-cuda-runtime-cu12, nvidia-cuda-nvrtc-cu12, nvidia-cuda-cupti-cu12, nvidia-cublas-cu12, nvidia-cusparse-cu12, nvidia-cudnn-cu12, nvidia-cusolver-cu12, pyro-ppl, pgmpy\n",
            "  Attempting uninstall: nvidia-nvjitlink-cu12\n",
            "    Found existing installation: nvidia-nvjitlink-cu12 12.5.82\n",
            "    Uninstalling nvidia-nvjitlink-cu12-12.5.82:\n",
            "      Successfully uninstalled nvidia-nvjitlink-cu12-12.5.82\n",
            "  Attempting uninstall: nvidia-curand-cu12\n",
            "    Found existing installation: nvidia-curand-cu12 10.3.6.82\n",
            "    Uninstalling nvidia-curand-cu12-10.3.6.82:\n",
            "      Successfully uninstalled nvidia-curand-cu12-10.3.6.82\n",
            "  Attempting uninstall: nvidia-cufft-cu12\n",
            "    Found existing installation: nvidia-cufft-cu12 11.2.3.61\n",
            "    Uninstalling nvidia-cufft-cu12-11.2.3.61:\n",
            "      Successfully uninstalled nvidia-cufft-cu12-11.2.3.61\n",
            "  Attempting uninstall: nvidia-cuda-runtime-cu12\n",
            "    Found existing installation: nvidia-cuda-runtime-cu12 12.5.82\n",
            "    Uninstalling nvidia-cuda-runtime-cu12-12.5.82:\n",
            "      Successfully uninstalled nvidia-cuda-runtime-cu12-12.5.82\n",
            "  Attempting uninstall: nvidia-cuda-nvrtc-cu12\n",
            "    Found existing installation: nvidia-cuda-nvrtc-cu12 12.5.82\n",
            "    Uninstalling nvidia-cuda-nvrtc-cu12-12.5.82:\n",
            "      Successfully uninstalled nvidia-cuda-nvrtc-cu12-12.5.82\n",
            "  Attempting uninstall: nvidia-cuda-cupti-cu12\n",
            "    Found existing installation: nvidia-cuda-cupti-cu12 12.5.82\n",
            "    Uninstalling nvidia-cuda-cupti-cu12-12.5.82:\n",
            "      Successfully uninstalled nvidia-cuda-cupti-cu12-12.5.82\n",
            "  Attempting uninstall: nvidia-cublas-cu12\n",
            "    Found existing installation: nvidia-cublas-cu12 12.5.3.2\n",
            "    Uninstalling nvidia-cublas-cu12-12.5.3.2:\n",
            "      Successfully uninstalled nvidia-cublas-cu12-12.5.3.2\n",
            "  Attempting uninstall: nvidia-cusparse-cu12\n",
            "    Found existing installation: nvidia-cusparse-cu12 12.5.1.3\n",
            "    Uninstalling nvidia-cusparse-cu12-12.5.1.3:\n",
            "      Successfully uninstalled nvidia-cusparse-cu12-12.5.1.3\n",
            "  Attempting uninstall: nvidia-cudnn-cu12\n",
            "    Found existing installation: nvidia-cudnn-cu12 9.3.0.75\n",
            "    Uninstalling nvidia-cudnn-cu12-9.3.0.75:\n",
            "      Successfully uninstalled nvidia-cudnn-cu12-9.3.0.75\n",
            "  Attempting uninstall: nvidia-cusolver-cu12\n",
            "    Found existing installation: nvidia-cusolver-cu12 11.6.3.83\n",
            "    Uninstalling nvidia-cusolver-cu12-11.6.3.83:\n",
            "      Successfully uninstalled nvidia-cusolver-cu12-11.6.3.83\n",
            "Successfully installed nvidia-cublas-cu12-12.4.5.8 nvidia-cuda-cupti-cu12-12.4.127 nvidia-cuda-nvrtc-cu12-12.4.127 nvidia-cuda-runtime-cu12-12.4.127 nvidia-cudnn-cu12-9.1.0.70 nvidia-cufft-cu12-11.2.1.3 nvidia-curand-cu12-10.3.5.147 nvidia-cusolver-cu12-11.6.1.9 nvidia-cusparse-cu12-12.3.1.170 nvidia-nvjitlink-cu12-12.4.127 pgmpy-1.0.0 pyro-api-0.1.2 pyro-ppl-1.9.1\n"
          ]
        }
      ],
      "source": [
        "pip install pgmpy"
      ]
    },
    {
      "cell_type": "code",
      "source": [
        "from pgmpy.factors.discrete import TabularCPD\n",
        "from pgmpy.inference import VariableElimination\n",
        "from pgmpy.estimators import MaximumLikelihoodEstimator\n",
        "import pandas as pd"
      ],
      "metadata": {
        "id": "yyLTWT9MTrXv"
      },
      "execution_count": null,
      "outputs": []
    },
    {
      "cell_type": "markdown",
      "source": [
        "##Loading dataset"
      ],
      "metadata": {
        "id": "3FfHRpJTY562"
      }
    },
    {
      "cell_type": "code",
      "source": [
        "df= pd.read_csv('/content/dataset_risque_cardiaque.csv')"
      ],
      "metadata": {
        "id": "GG86bJYqUPCU"
      },
      "execution_count": null,
      "outputs": []
    },
    {
      "cell_type": "markdown",
      "source": [
        "##Understanding the dataset"
      ],
      "metadata": {
        "id": "pAomSbuhY84U"
      }
    },
    {
      "cell_type": "code",
      "source": [
        "df.info()"
      ],
      "metadata": {
        "colab": {
          "base_uri": "https://localhost:8080/"
        },
        "id": "SeLBsGeXtsB2",
        "outputId": "650c7109-fb18-4315-9163-1b77168d3403"
      },
      "execution_count": null,
      "outputs": [
        {
          "output_type": "stream",
          "name": "stdout",
          "text": [
            "<class 'pandas.core.frame.DataFrame'>\n",
            "RangeIndex: 500 entries, 0 to 499\n",
            "Data columns (total 10 columns):\n",
            " #   Column                 Non-Null Count  Dtype \n",
            "---  ------                 --------------  ----- \n",
            " 0   Age                    500 non-null    object\n",
            " 1   Sexe                   500 non-null    object\n",
            " 2   Tabagisme              500 non-null    object\n",
            " 3   Activite_physique      500 non-null    object\n",
            " 4   Antecedents_familiaux  500 non-null    object\n",
            " 5   Stress_chronique       500 non-null    object\n",
            " 6   Hypertension           500 non-null    object\n",
            " 7   Cholesterol_eleve      500 non-null    object\n",
            " 8   Diabete                500 non-null    object\n",
            " 9   Risque_cardiaque       500 non-null    object\n",
            "dtypes: object(10)\n",
            "memory usage: 39.2+ KB\n"
          ]
        }
      ]
    },
    {
      "cell_type": "code",
      "source": [
        "df.describe()"
      ],
      "metadata": {
        "colab": {
          "base_uri": "https://localhost:8080/",
          "height": 194
        },
        "id": "H4rAGmqHt4nN",
        "outputId": "8064e93c-af34-4f68-ebdc-d4e0c2946507"
      },
      "execution_count": null,
      "outputs": [
        {
          "output_type": "execute_result",
          "data": {
            "text/plain": [
              "          Age   Sexe Tabagisme Activite_physique Antecedents_familiaux  \\\n",
              "count     500    500       500               500                   500   \n",
              "unique      3      2         2                 2                     2   \n",
              "top     Jeune  Homme       Non               Oui                   Non   \n",
              "freq      207    262       353               296                   355   \n",
              "\n",
              "       Stress_chronique Hypertension Cholesterol_eleve Diabete  \\\n",
              "count               500          500               500     500   \n",
              "unique                2            2                 2       2   \n",
              "top                 Non          Oui               Non     Non   \n",
              "freq                253          287               260     426   \n",
              "\n",
              "       Risque_cardiaque  \n",
              "count               500  \n",
              "unique                2  \n",
              "top                 Non  \n",
              "freq                280  "
            ],
            "text/html": [
              "\n",
              "  <div id=\"df-ef5f7476-5799-46f3-9956-8faa2169da6b\" class=\"colab-df-container\">\n",
              "    <div>\n",
              "<style scoped>\n",
              "    .dataframe tbody tr th:only-of-type {\n",
              "        vertical-align: middle;\n",
              "    }\n",
              "\n",
              "    .dataframe tbody tr th {\n",
              "        vertical-align: top;\n",
              "    }\n",
              "\n",
              "    .dataframe thead th {\n",
              "        text-align: right;\n",
              "    }\n",
              "</style>\n",
              "<table border=\"1\" class=\"dataframe\">\n",
              "  <thead>\n",
              "    <tr style=\"text-align: right;\">\n",
              "      <th></th>\n",
              "      <th>Age</th>\n",
              "      <th>Sexe</th>\n",
              "      <th>Tabagisme</th>\n",
              "      <th>Activite_physique</th>\n",
              "      <th>Antecedents_familiaux</th>\n",
              "      <th>Stress_chronique</th>\n",
              "      <th>Hypertension</th>\n",
              "      <th>Cholesterol_eleve</th>\n",
              "      <th>Diabete</th>\n",
              "      <th>Risque_cardiaque</th>\n",
              "    </tr>\n",
              "  </thead>\n",
              "  <tbody>\n",
              "    <tr>\n",
              "      <th>count</th>\n",
              "      <td>500</td>\n",
              "      <td>500</td>\n",
              "      <td>500</td>\n",
              "      <td>500</td>\n",
              "      <td>500</td>\n",
              "      <td>500</td>\n",
              "      <td>500</td>\n",
              "      <td>500</td>\n",
              "      <td>500</td>\n",
              "      <td>500</td>\n",
              "    </tr>\n",
              "    <tr>\n",
              "      <th>unique</th>\n",
              "      <td>3</td>\n",
              "      <td>2</td>\n",
              "      <td>2</td>\n",
              "      <td>2</td>\n",
              "      <td>2</td>\n",
              "      <td>2</td>\n",
              "      <td>2</td>\n",
              "      <td>2</td>\n",
              "      <td>2</td>\n",
              "      <td>2</td>\n",
              "    </tr>\n",
              "    <tr>\n",
              "      <th>top</th>\n",
              "      <td>Jeune</td>\n",
              "      <td>Homme</td>\n",
              "      <td>Non</td>\n",
              "      <td>Oui</td>\n",
              "      <td>Non</td>\n",
              "      <td>Non</td>\n",
              "      <td>Oui</td>\n",
              "      <td>Non</td>\n",
              "      <td>Non</td>\n",
              "      <td>Non</td>\n",
              "    </tr>\n",
              "    <tr>\n",
              "      <th>freq</th>\n",
              "      <td>207</td>\n",
              "      <td>262</td>\n",
              "      <td>353</td>\n",
              "      <td>296</td>\n",
              "      <td>355</td>\n",
              "      <td>253</td>\n",
              "      <td>287</td>\n",
              "      <td>260</td>\n",
              "      <td>426</td>\n",
              "      <td>280</td>\n",
              "    </tr>\n",
              "  </tbody>\n",
              "</table>\n",
              "</div>\n",
              "    <div class=\"colab-df-buttons\">\n",
              "\n",
              "  <div class=\"colab-df-container\">\n",
              "    <button class=\"colab-df-convert\" onclick=\"convertToInteractive('df-ef5f7476-5799-46f3-9956-8faa2169da6b')\"\n",
              "            title=\"Convert this dataframe to an interactive table.\"\n",
              "            style=\"display:none;\">\n",
              "\n",
              "  <svg xmlns=\"http://www.w3.org/2000/svg\" height=\"24px\" viewBox=\"0 -960 960 960\">\n",
              "    <path d=\"M120-120v-720h720v720H120Zm60-500h600v-160H180v160Zm220 220h160v-160H400v160Zm0 220h160v-160H400v160ZM180-400h160v-160H180v160Zm440 0h160v-160H620v160ZM180-180h160v-160H180v160Zm440 0h160v-160H620v160Z\"/>\n",
              "  </svg>\n",
              "    </button>\n",
              "\n",
              "  <style>\n",
              "    .colab-df-container {\n",
              "      display:flex;\n",
              "      gap: 12px;\n",
              "    }\n",
              "\n",
              "    .colab-df-convert {\n",
              "      background-color: #E8F0FE;\n",
              "      border: none;\n",
              "      border-radius: 50%;\n",
              "      cursor: pointer;\n",
              "      display: none;\n",
              "      fill: #1967D2;\n",
              "      height: 32px;\n",
              "      padding: 0 0 0 0;\n",
              "      width: 32px;\n",
              "    }\n",
              "\n",
              "    .colab-df-convert:hover {\n",
              "      background-color: #E2EBFA;\n",
              "      box-shadow: 0px 1px 2px rgba(60, 64, 67, 0.3), 0px 1px 3px 1px rgba(60, 64, 67, 0.15);\n",
              "      fill: #174EA6;\n",
              "    }\n",
              "\n",
              "    .colab-df-buttons div {\n",
              "      margin-bottom: 4px;\n",
              "    }\n",
              "\n",
              "    [theme=dark] .colab-df-convert {\n",
              "      background-color: #3B4455;\n",
              "      fill: #D2E3FC;\n",
              "    }\n",
              "\n",
              "    [theme=dark] .colab-df-convert:hover {\n",
              "      background-color: #434B5C;\n",
              "      box-shadow: 0px 1px 3px 1px rgba(0, 0, 0, 0.15);\n",
              "      filter: drop-shadow(0px 1px 2px rgba(0, 0, 0, 0.3));\n",
              "      fill: #FFFFFF;\n",
              "    }\n",
              "  </style>\n",
              "\n",
              "    <script>\n",
              "      const buttonEl =\n",
              "        document.querySelector('#df-ef5f7476-5799-46f3-9956-8faa2169da6b button.colab-df-convert');\n",
              "      buttonEl.style.display =\n",
              "        google.colab.kernel.accessAllowed ? 'block' : 'none';\n",
              "\n",
              "      async function convertToInteractive(key) {\n",
              "        const element = document.querySelector('#df-ef5f7476-5799-46f3-9956-8faa2169da6b');\n",
              "        const dataTable =\n",
              "          await google.colab.kernel.invokeFunction('convertToInteractive',\n",
              "                                                    [key], {});\n",
              "        if (!dataTable) return;\n",
              "\n",
              "        const docLinkHtml = 'Like what you see? Visit the ' +\n",
              "          '<a target=\"_blank\" href=https://colab.research.google.com/notebooks/data_table.ipynb>data table notebook</a>'\n",
              "          + ' to learn more about interactive tables.';\n",
              "        element.innerHTML = '';\n",
              "        dataTable['output_type'] = 'display_data';\n",
              "        await google.colab.output.renderOutput(dataTable, element);\n",
              "        const docLink = document.createElement('div');\n",
              "        docLink.innerHTML = docLinkHtml;\n",
              "        element.appendChild(docLink);\n",
              "      }\n",
              "    </script>\n",
              "  </div>\n",
              "\n",
              "\n",
              "    <div id=\"df-812340e5-60eb-4497-b803-949029de0979\">\n",
              "      <button class=\"colab-df-quickchart\" onclick=\"quickchart('df-812340e5-60eb-4497-b803-949029de0979')\"\n",
              "                title=\"Suggest charts\"\n",
              "                style=\"display:none;\">\n",
              "\n",
              "<svg xmlns=\"http://www.w3.org/2000/svg\" height=\"24px\"viewBox=\"0 0 24 24\"\n",
              "     width=\"24px\">\n",
              "    <g>\n",
              "        <path d=\"M19 3H5c-1.1 0-2 .9-2 2v14c0 1.1.9 2 2 2h14c1.1 0 2-.9 2-2V5c0-1.1-.9-2-2-2zM9 17H7v-7h2v7zm4 0h-2V7h2v10zm4 0h-2v-4h2v4z\"/>\n",
              "    </g>\n",
              "</svg>\n",
              "      </button>\n",
              "\n",
              "<style>\n",
              "  .colab-df-quickchart {\n",
              "      --bg-color: #E8F0FE;\n",
              "      --fill-color: #1967D2;\n",
              "      --hover-bg-color: #E2EBFA;\n",
              "      --hover-fill-color: #174EA6;\n",
              "      --disabled-fill-color: #AAA;\n",
              "      --disabled-bg-color: #DDD;\n",
              "  }\n",
              "\n",
              "  [theme=dark] .colab-df-quickchart {\n",
              "      --bg-color: #3B4455;\n",
              "      --fill-color: #D2E3FC;\n",
              "      --hover-bg-color: #434B5C;\n",
              "      --hover-fill-color: #FFFFFF;\n",
              "      --disabled-bg-color: #3B4455;\n",
              "      --disabled-fill-color: #666;\n",
              "  }\n",
              "\n",
              "  .colab-df-quickchart {\n",
              "    background-color: var(--bg-color);\n",
              "    border: none;\n",
              "    border-radius: 50%;\n",
              "    cursor: pointer;\n",
              "    display: none;\n",
              "    fill: var(--fill-color);\n",
              "    height: 32px;\n",
              "    padding: 0;\n",
              "    width: 32px;\n",
              "  }\n",
              "\n",
              "  .colab-df-quickchart:hover {\n",
              "    background-color: var(--hover-bg-color);\n",
              "    box-shadow: 0 1px 2px rgba(60, 64, 67, 0.3), 0 1px 3px 1px rgba(60, 64, 67, 0.15);\n",
              "    fill: var(--button-hover-fill-color);\n",
              "  }\n",
              "\n",
              "  .colab-df-quickchart-complete:disabled,\n",
              "  .colab-df-quickchart-complete:disabled:hover {\n",
              "    background-color: var(--disabled-bg-color);\n",
              "    fill: var(--disabled-fill-color);\n",
              "    box-shadow: none;\n",
              "  }\n",
              "\n",
              "  .colab-df-spinner {\n",
              "    border: 2px solid var(--fill-color);\n",
              "    border-color: transparent;\n",
              "    border-bottom-color: var(--fill-color);\n",
              "    animation:\n",
              "      spin 1s steps(1) infinite;\n",
              "  }\n",
              "\n",
              "  @keyframes spin {\n",
              "    0% {\n",
              "      border-color: transparent;\n",
              "      border-bottom-color: var(--fill-color);\n",
              "      border-left-color: var(--fill-color);\n",
              "    }\n",
              "    20% {\n",
              "      border-color: transparent;\n",
              "      border-left-color: var(--fill-color);\n",
              "      border-top-color: var(--fill-color);\n",
              "    }\n",
              "    30% {\n",
              "      border-color: transparent;\n",
              "      border-left-color: var(--fill-color);\n",
              "      border-top-color: var(--fill-color);\n",
              "      border-right-color: var(--fill-color);\n",
              "    }\n",
              "    40% {\n",
              "      border-color: transparent;\n",
              "      border-right-color: var(--fill-color);\n",
              "      border-top-color: var(--fill-color);\n",
              "    }\n",
              "    60% {\n",
              "      border-color: transparent;\n",
              "      border-right-color: var(--fill-color);\n",
              "    }\n",
              "    80% {\n",
              "      border-color: transparent;\n",
              "      border-right-color: var(--fill-color);\n",
              "      border-bottom-color: var(--fill-color);\n",
              "    }\n",
              "    90% {\n",
              "      border-color: transparent;\n",
              "      border-bottom-color: var(--fill-color);\n",
              "    }\n",
              "  }\n",
              "</style>\n",
              "\n",
              "      <script>\n",
              "        async function quickchart(key) {\n",
              "          const quickchartButtonEl =\n",
              "            document.querySelector('#' + key + ' button');\n",
              "          quickchartButtonEl.disabled = true;  // To prevent multiple clicks.\n",
              "          quickchartButtonEl.classList.add('colab-df-spinner');\n",
              "          try {\n",
              "            const charts = await google.colab.kernel.invokeFunction(\n",
              "                'suggestCharts', [key], {});\n",
              "          } catch (error) {\n",
              "            console.error('Error during call to suggestCharts:', error);\n",
              "          }\n",
              "          quickchartButtonEl.classList.remove('colab-df-spinner');\n",
              "          quickchartButtonEl.classList.add('colab-df-quickchart-complete');\n",
              "        }\n",
              "        (() => {\n",
              "          let quickchartButtonEl =\n",
              "            document.querySelector('#df-812340e5-60eb-4497-b803-949029de0979 button');\n",
              "          quickchartButtonEl.style.display =\n",
              "            google.colab.kernel.accessAllowed ? 'block' : 'none';\n",
              "        })();\n",
              "      </script>\n",
              "    </div>\n",
              "\n",
              "    </div>\n",
              "  </div>\n"
            ],
            "application/vnd.google.colaboratory.intrinsic+json": {
              "type": "dataframe",
              "summary": "{\n  \"name\": \"df\",\n  \"rows\": 4,\n  \"fields\": [\n    {\n      \"column\": \"Age\",\n      \"properties\": {\n        \"dtype\": \"string\",\n        \"num_unique_values\": 4,\n        \"samples\": [\n          3,\n          \"207\",\n          \"500\"\n        ],\n        \"semantic_type\": \"\",\n        \"description\": \"\"\n      }\n    },\n    {\n      \"column\": \"Sexe\",\n      \"properties\": {\n        \"dtype\": \"string\",\n        \"num_unique_values\": 4,\n        \"samples\": [\n          2,\n          \"262\",\n          \"500\"\n        ],\n        \"semantic_type\": \"\",\n        \"description\": \"\"\n      }\n    },\n    {\n      \"column\": \"Tabagisme\",\n      \"properties\": {\n        \"dtype\": \"string\",\n        \"num_unique_values\": 4,\n        \"samples\": [\n          2,\n          \"353\",\n          \"500\"\n        ],\n        \"semantic_type\": \"\",\n        \"description\": \"\"\n      }\n    },\n    {\n      \"column\": \"Activite_physique\",\n      \"properties\": {\n        \"dtype\": \"string\",\n        \"num_unique_values\": 4,\n        \"samples\": [\n          2,\n          \"296\",\n          \"500\"\n        ],\n        \"semantic_type\": \"\",\n        \"description\": \"\"\n      }\n    },\n    {\n      \"column\": \"Antecedents_familiaux\",\n      \"properties\": {\n        \"dtype\": \"string\",\n        \"num_unique_values\": 4,\n        \"samples\": [\n          2,\n          \"355\",\n          \"500\"\n        ],\n        \"semantic_type\": \"\",\n        \"description\": \"\"\n      }\n    },\n    {\n      \"column\": \"Stress_chronique\",\n      \"properties\": {\n        \"dtype\": \"string\",\n        \"num_unique_values\": 4,\n        \"samples\": [\n          2,\n          \"253\",\n          \"500\"\n        ],\n        \"semantic_type\": \"\",\n        \"description\": \"\"\n      }\n    },\n    {\n      \"column\": \"Hypertension\",\n      \"properties\": {\n        \"dtype\": \"string\",\n        \"num_unique_values\": 4,\n        \"samples\": [\n          2,\n          \"287\",\n          \"500\"\n        ],\n        \"semantic_type\": \"\",\n        \"description\": \"\"\n      }\n    },\n    {\n      \"column\": \"Cholesterol_eleve\",\n      \"properties\": {\n        \"dtype\": \"string\",\n        \"num_unique_values\": 4,\n        \"samples\": [\n          2,\n          \"260\",\n          \"500\"\n        ],\n        \"semantic_type\": \"\",\n        \"description\": \"\"\n      }\n    },\n    {\n      \"column\": \"Diabete\",\n      \"properties\": {\n        \"dtype\": \"string\",\n        \"num_unique_values\": 4,\n        \"samples\": [\n          2,\n          \"426\",\n          \"500\"\n        ],\n        \"semantic_type\": \"\",\n        \"description\": \"\"\n      }\n    },\n    {\n      \"column\": \"Risque_cardiaque\",\n      \"properties\": {\n        \"dtype\": \"string\",\n        \"num_unique_values\": 4,\n        \"samples\": [\n          2,\n          \"280\",\n          \"500\"\n        ],\n        \"semantic_type\": \"\",\n        \"description\": \"\"\n      }\n    }\n  ]\n}"
            }
          },
          "metadata": {},
          "execution_count": 5
        }
      ]
    },
    {
      "cell_type": "code",
      "source": [
        "df.columns"
      ],
      "metadata": {
        "colab": {
          "base_uri": "https://localhost:8080/"
        },
        "id": "yfRhhQdLuFqB",
        "outputId": "7c08acdc-a494-4830-f367-383d03310e1b"
      },
      "execution_count": null,
      "outputs": [
        {
          "output_type": "execute_result",
          "data": {
            "text/plain": [
              "Index(['Age', 'Sexe', 'Tabagisme', 'Activite_physique',\n",
              "       'Antecedents_familiaux', 'Stress_chronique', 'Hypertension',\n",
              "       'Cholesterol_eleve', 'Diabete', 'Risque_cardiaque'],\n",
              "      dtype='object')"
            ]
          },
          "metadata": {},
          "execution_count": 6
        }
      ]
    },
    {
      "cell_type": "code",
      "source": [
        "df.shape"
      ],
      "metadata": {
        "colab": {
          "base_uri": "https://localhost:8080/"
        },
        "id": "y_qukhuyuK6l",
        "outputId": "ddb58506-0e5a-4d91-a233-a0f7537a11e1"
      },
      "execution_count": null,
      "outputs": [
        {
          "output_type": "execute_result",
          "data": {
            "text/plain": [
              "(500, 10)"
            ]
          },
          "metadata": {},
          "execution_count": 7
        }
      ]
    },
    {
      "cell_type": "markdown",
      "source": [
        "##Preprocessing of dataset"
      ],
      "metadata": {
        "id": "QqAMR4haZNEY"
      }
    },
    {
      "cell_type": "code",
      "source": [
        "df.isnull().sum()"
      ],
      "metadata": {
        "colab": {
          "base_uri": "https://localhost:8080/",
          "height": 397
        },
        "id": "UkynrdA9uOP1",
        "outputId": "17edf82d-8adc-4740-e3da-5b56cb2cd4fc"
      },
      "execution_count": null,
      "outputs": [
        {
          "output_type": "execute_result",
          "data": {
            "text/plain": [
              "Age                      0\n",
              "Sexe                     0\n",
              "Tabagisme                0\n",
              "Activite_physique        0\n",
              "Antecedents_familiaux    0\n",
              "Stress_chronique         0\n",
              "Hypertension             0\n",
              "Cholesterol_eleve        0\n",
              "Diabete                  0\n",
              "Risque_cardiaque         0\n",
              "dtype: int64"
            ],
            "text/html": [
              "<div>\n",
              "<style scoped>\n",
              "    .dataframe tbody tr th:only-of-type {\n",
              "        vertical-align: middle;\n",
              "    }\n",
              "\n",
              "    .dataframe tbody tr th {\n",
              "        vertical-align: top;\n",
              "    }\n",
              "\n",
              "    .dataframe thead th {\n",
              "        text-align: right;\n",
              "    }\n",
              "</style>\n",
              "<table border=\"1\" class=\"dataframe\">\n",
              "  <thead>\n",
              "    <tr style=\"text-align: right;\">\n",
              "      <th></th>\n",
              "      <th>0</th>\n",
              "    </tr>\n",
              "  </thead>\n",
              "  <tbody>\n",
              "    <tr>\n",
              "      <th>Age</th>\n",
              "      <td>0</td>\n",
              "    </tr>\n",
              "    <tr>\n",
              "      <th>Sexe</th>\n",
              "      <td>0</td>\n",
              "    </tr>\n",
              "    <tr>\n",
              "      <th>Tabagisme</th>\n",
              "      <td>0</td>\n",
              "    </tr>\n",
              "    <tr>\n",
              "      <th>Activite_physique</th>\n",
              "      <td>0</td>\n",
              "    </tr>\n",
              "    <tr>\n",
              "      <th>Antecedents_familiaux</th>\n",
              "      <td>0</td>\n",
              "    </tr>\n",
              "    <tr>\n",
              "      <th>Stress_chronique</th>\n",
              "      <td>0</td>\n",
              "    </tr>\n",
              "    <tr>\n",
              "      <th>Hypertension</th>\n",
              "      <td>0</td>\n",
              "    </tr>\n",
              "    <tr>\n",
              "      <th>Cholesterol_eleve</th>\n",
              "      <td>0</td>\n",
              "    </tr>\n",
              "    <tr>\n",
              "      <th>Diabete</th>\n",
              "      <td>0</td>\n",
              "    </tr>\n",
              "    <tr>\n",
              "      <th>Risque_cardiaque</th>\n",
              "      <td>0</td>\n",
              "    </tr>\n",
              "  </tbody>\n",
              "</table>\n",
              "</div><br><label><b>dtype:</b> int64</label>"
            ]
          },
          "metadata": {},
          "execution_count": 8
        }
      ]
    },
    {
      "cell_type": "code",
      "source": [
        "df.duplicated().sum()"
      ],
      "metadata": {
        "colab": {
          "base_uri": "https://localhost:8080/"
        },
        "id": "K14lgF7buW6d",
        "outputId": "a411e7e1-cb87-4d53-f530-9ec83b1a0fe6"
      },
      "execution_count": null,
      "outputs": [
        {
          "output_type": "execute_result",
          "data": {
            "text/plain": [
              "np.int64(242)"
            ]
          },
          "metadata": {},
          "execution_count": 9
        }
      ]
    },
    {
      "cell_type": "code",
      "source": [
        "df.drop_duplicates(inplace=True)"
      ],
      "metadata": {
        "id": "vM_QGFNfud2_"
      },
      "execution_count": null,
      "outputs": []
    },
    {
      "cell_type": "code",
      "source": [
        "df.duplicated().sum()"
      ],
      "metadata": {
        "colab": {
          "base_uri": "https://localhost:8080/"
        },
        "id": "ONrEZy2avIDq",
        "outputId": "9cfadd1c-c8e4-46ac-80f8-3b655565d9b3"
      },
      "execution_count": null,
      "outputs": [
        {
          "output_type": "execute_result",
          "data": {
            "text/plain": [
              "np.int64(0)"
            ]
          },
          "metadata": {},
          "execution_count": 11
        }
      ]
    },
    {
      "cell_type": "code",
      "source": [
        "df.shape"
      ],
      "metadata": {
        "colab": {
          "base_uri": "https://localhost:8080/"
        },
        "id": "MZuU7pCovLK6",
        "outputId": "3f8a4e0c-580f-4371-cafb-12bd1cec4873"
      },
      "execution_count": null,
      "outputs": [
        {
          "output_type": "execute_result",
          "data": {
            "text/plain": [
              "(258, 10)"
            ]
          },
          "metadata": {},
          "execution_count": 12
        }
      ]
    },
    {
      "cell_type": "code",
      "source": [
        "binary_cols = ['Tabagisme', 'Activite_physique', 'Antecedents_familiaux',\n",
        "               'Stress_chronique', 'Hypertension', 'Cholesterol_eleve',\n",
        "               'Diabete', 'Risque_cardiaque']\n",
        "\n",
        "df[binary_cols] = df[binary_cols].replace({'Oui': 1, 'Non': 0}).infer_objects(copy=False)"
      ],
      "metadata": {
        "id": "36X04k4YvnUh",
        "colab": {
          "base_uri": "https://localhost:8080/"
        },
        "outputId": "e9d8b8ae-2758-468d-efd2-780635d70dfe"
      },
      "execution_count": null,
      "outputs": [
        {
          "output_type": "stream",
          "name": "stderr",
          "text": [
            "<ipython-input-13-50cf39aebf6a>:5: FutureWarning: Downcasting behavior in `replace` is deprecated and will be removed in a future version. To retain the old behavior, explicitly call `result.infer_objects(copy=False)`. To opt-in to the future behavior, set `pd.set_option('future.no_silent_downcasting', True)`\n",
            "  df[binary_cols] = df[binary_cols].replace({'Oui': 1, 'Non': 0}).infer_objects(copy=False)\n"
          ]
        }
      ]
    },
    {
      "cell_type": "code",
      "source": [
        "df['Sexe'] = df['Sexe'].replace({'Homme': 1, 'Femme': 0}).infer_objects(copy=False)"
      ],
      "metadata": {
        "colab": {
          "base_uri": "https://localhost:8080/"
        },
        "id": "1p-E2X0C7b-q",
        "outputId": "f0470678-e3d9-4af9-a7d9-05ba24ebdfc3"
      },
      "execution_count": null,
      "outputs": [
        {
          "output_type": "stream",
          "name": "stderr",
          "text": [
            "<ipython-input-14-59796e726df2>:1: FutureWarning: Downcasting behavior in `replace` is deprecated and will be removed in a future version. To retain the old behavior, explicitly call `result.infer_objects(copy=False)`. To opt-in to the future behavior, set `pd.set_option('future.no_silent_downcasting', True)`\n",
            "  df['Sexe'] = df['Sexe'].replace({'Homme': 1, 'Femme': 0}).infer_objects(copy=False)\n"
          ]
        }
      ]
    },
    {
      "cell_type": "code",
      "source": [
        "df.head()"
      ],
      "metadata": {
        "colab": {
          "base_uri": "https://localhost:8080/",
          "height": 226
        },
        "id": "YINm6-pM74qZ",
        "outputId": "24b7a4d3-00ee-400c-8e15-40b7c0f83194"
      },
      "execution_count": null,
      "outputs": [
        {
          "output_type": "execute_result",
          "data": {
            "text/plain": [
              "      Age  Sexe  Tabagisme  Activite_physique  Antecedents_familiaux  \\\n",
              "0   Jeune     0          1                  1                      1   \n",
              "1  Adulte     0          0                  1                      1   \n",
              "2   Moyen     1          0                  1                      0   \n",
              "3   Moyen     0          0                  1                      1   \n",
              "4   Jeune     0          0                  1                      1   \n",
              "\n",
              "   Stress_chronique  Hypertension  Cholesterol_eleve  Diabete  \\\n",
              "0                 0             1                  0        0   \n",
              "1                 0             1                  1        0   \n",
              "2                 0             0                  1        0   \n",
              "3                 0             1                  0        0   \n",
              "4                 1             1                  0        0   \n",
              "\n",
              "   Risque_cardiaque  \n",
              "0                 1  \n",
              "1                 1  \n",
              "2                 0  \n",
              "3                 0  \n",
              "4                 1  "
            ],
            "text/html": [
              "\n",
              "  <div id=\"df-f6338856-dead-48d8-ba60-5b501fae83e6\" class=\"colab-df-container\">\n",
              "    <div>\n",
              "<style scoped>\n",
              "    .dataframe tbody tr th:only-of-type {\n",
              "        vertical-align: middle;\n",
              "    }\n",
              "\n",
              "    .dataframe tbody tr th {\n",
              "        vertical-align: top;\n",
              "    }\n",
              "\n",
              "    .dataframe thead th {\n",
              "        text-align: right;\n",
              "    }\n",
              "</style>\n",
              "<table border=\"1\" class=\"dataframe\">\n",
              "  <thead>\n",
              "    <tr style=\"text-align: right;\">\n",
              "      <th></th>\n",
              "      <th>Age</th>\n",
              "      <th>Sexe</th>\n",
              "      <th>Tabagisme</th>\n",
              "      <th>Activite_physique</th>\n",
              "      <th>Antecedents_familiaux</th>\n",
              "      <th>Stress_chronique</th>\n",
              "      <th>Hypertension</th>\n",
              "      <th>Cholesterol_eleve</th>\n",
              "      <th>Diabete</th>\n",
              "      <th>Risque_cardiaque</th>\n",
              "    </tr>\n",
              "  </thead>\n",
              "  <tbody>\n",
              "    <tr>\n",
              "      <th>0</th>\n",
              "      <td>Jeune</td>\n",
              "      <td>0</td>\n",
              "      <td>1</td>\n",
              "      <td>1</td>\n",
              "      <td>1</td>\n",
              "      <td>0</td>\n",
              "      <td>1</td>\n",
              "      <td>0</td>\n",
              "      <td>0</td>\n",
              "      <td>1</td>\n",
              "    </tr>\n",
              "    <tr>\n",
              "      <th>1</th>\n",
              "      <td>Adulte</td>\n",
              "      <td>0</td>\n",
              "      <td>0</td>\n",
              "      <td>1</td>\n",
              "      <td>1</td>\n",
              "      <td>0</td>\n",
              "      <td>1</td>\n",
              "      <td>1</td>\n",
              "      <td>0</td>\n",
              "      <td>1</td>\n",
              "    </tr>\n",
              "    <tr>\n",
              "      <th>2</th>\n",
              "      <td>Moyen</td>\n",
              "      <td>1</td>\n",
              "      <td>0</td>\n",
              "      <td>1</td>\n",
              "      <td>0</td>\n",
              "      <td>0</td>\n",
              "      <td>0</td>\n",
              "      <td>1</td>\n",
              "      <td>0</td>\n",
              "      <td>0</td>\n",
              "    </tr>\n",
              "    <tr>\n",
              "      <th>3</th>\n",
              "      <td>Moyen</td>\n",
              "      <td>0</td>\n",
              "      <td>0</td>\n",
              "      <td>1</td>\n",
              "      <td>1</td>\n",
              "      <td>0</td>\n",
              "      <td>1</td>\n",
              "      <td>0</td>\n",
              "      <td>0</td>\n",
              "      <td>0</td>\n",
              "    </tr>\n",
              "    <tr>\n",
              "      <th>4</th>\n",
              "      <td>Jeune</td>\n",
              "      <td>0</td>\n",
              "      <td>0</td>\n",
              "      <td>1</td>\n",
              "      <td>1</td>\n",
              "      <td>1</td>\n",
              "      <td>1</td>\n",
              "      <td>0</td>\n",
              "      <td>0</td>\n",
              "      <td>1</td>\n",
              "    </tr>\n",
              "  </tbody>\n",
              "</table>\n",
              "</div>\n",
              "    <div class=\"colab-df-buttons\">\n",
              "\n",
              "  <div class=\"colab-df-container\">\n",
              "    <button class=\"colab-df-convert\" onclick=\"convertToInteractive('df-f6338856-dead-48d8-ba60-5b501fae83e6')\"\n",
              "            title=\"Convert this dataframe to an interactive table.\"\n",
              "            style=\"display:none;\">\n",
              "\n",
              "  <svg xmlns=\"http://www.w3.org/2000/svg\" height=\"24px\" viewBox=\"0 -960 960 960\">\n",
              "    <path d=\"M120-120v-720h720v720H120Zm60-500h600v-160H180v160Zm220 220h160v-160H400v160Zm0 220h160v-160H400v160ZM180-400h160v-160H180v160Zm440 0h160v-160H620v160ZM180-180h160v-160H180v160Zm440 0h160v-160H620v160Z\"/>\n",
              "  </svg>\n",
              "    </button>\n",
              "\n",
              "  <style>\n",
              "    .colab-df-container {\n",
              "      display:flex;\n",
              "      gap: 12px;\n",
              "    }\n",
              "\n",
              "    .colab-df-convert {\n",
              "      background-color: #E8F0FE;\n",
              "      border: none;\n",
              "      border-radius: 50%;\n",
              "      cursor: pointer;\n",
              "      display: none;\n",
              "      fill: #1967D2;\n",
              "      height: 32px;\n",
              "      padding: 0 0 0 0;\n",
              "      width: 32px;\n",
              "    }\n",
              "\n",
              "    .colab-df-convert:hover {\n",
              "      background-color: #E2EBFA;\n",
              "      box-shadow: 0px 1px 2px rgba(60, 64, 67, 0.3), 0px 1px 3px 1px rgba(60, 64, 67, 0.15);\n",
              "      fill: #174EA6;\n",
              "    }\n",
              "\n",
              "    .colab-df-buttons div {\n",
              "      margin-bottom: 4px;\n",
              "    }\n",
              "\n",
              "    [theme=dark] .colab-df-convert {\n",
              "      background-color: #3B4455;\n",
              "      fill: #D2E3FC;\n",
              "    }\n",
              "\n",
              "    [theme=dark] .colab-df-convert:hover {\n",
              "      background-color: #434B5C;\n",
              "      box-shadow: 0px 1px 3px 1px rgba(0, 0, 0, 0.15);\n",
              "      filter: drop-shadow(0px 1px 2px rgba(0, 0, 0, 0.3));\n",
              "      fill: #FFFFFF;\n",
              "    }\n",
              "  </style>\n",
              "\n",
              "    <script>\n",
              "      const buttonEl =\n",
              "        document.querySelector('#df-f6338856-dead-48d8-ba60-5b501fae83e6 button.colab-df-convert');\n",
              "      buttonEl.style.display =\n",
              "        google.colab.kernel.accessAllowed ? 'block' : 'none';\n",
              "\n",
              "      async function convertToInteractive(key) {\n",
              "        const element = document.querySelector('#df-f6338856-dead-48d8-ba60-5b501fae83e6');\n",
              "        const dataTable =\n",
              "          await google.colab.kernel.invokeFunction('convertToInteractive',\n",
              "                                                    [key], {});\n",
              "        if (!dataTable) return;\n",
              "\n",
              "        const docLinkHtml = 'Like what you see? Visit the ' +\n",
              "          '<a target=\"_blank\" href=https://colab.research.google.com/notebooks/data_table.ipynb>data table notebook</a>'\n",
              "          + ' to learn more about interactive tables.';\n",
              "        element.innerHTML = '';\n",
              "        dataTable['output_type'] = 'display_data';\n",
              "        await google.colab.output.renderOutput(dataTable, element);\n",
              "        const docLink = document.createElement('div');\n",
              "        docLink.innerHTML = docLinkHtml;\n",
              "        element.appendChild(docLink);\n",
              "      }\n",
              "    </script>\n",
              "  </div>\n",
              "\n",
              "\n",
              "    <div id=\"df-f1df12f0-04bb-473f-b9a8-46b04f612d7a\">\n",
              "      <button class=\"colab-df-quickchart\" onclick=\"quickchart('df-f1df12f0-04bb-473f-b9a8-46b04f612d7a')\"\n",
              "                title=\"Suggest charts\"\n",
              "                style=\"display:none;\">\n",
              "\n",
              "<svg xmlns=\"http://www.w3.org/2000/svg\" height=\"24px\"viewBox=\"0 0 24 24\"\n",
              "     width=\"24px\">\n",
              "    <g>\n",
              "        <path d=\"M19 3H5c-1.1 0-2 .9-2 2v14c0 1.1.9 2 2 2h14c1.1 0 2-.9 2-2V5c0-1.1-.9-2-2-2zM9 17H7v-7h2v7zm4 0h-2V7h2v10zm4 0h-2v-4h2v4z\"/>\n",
              "    </g>\n",
              "</svg>\n",
              "      </button>\n",
              "\n",
              "<style>\n",
              "  .colab-df-quickchart {\n",
              "      --bg-color: #E8F0FE;\n",
              "      --fill-color: #1967D2;\n",
              "      --hover-bg-color: #E2EBFA;\n",
              "      --hover-fill-color: #174EA6;\n",
              "      --disabled-fill-color: #AAA;\n",
              "      --disabled-bg-color: #DDD;\n",
              "  }\n",
              "\n",
              "  [theme=dark] .colab-df-quickchart {\n",
              "      --bg-color: #3B4455;\n",
              "      --fill-color: #D2E3FC;\n",
              "      --hover-bg-color: #434B5C;\n",
              "      --hover-fill-color: #FFFFFF;\n",
              "      --disabled-bg-color: #3B4455;\n",
              "      --disabled-fill-color: #666;\n",
              "  }\n",
              "\n",
              "  .colab-df-quickchart {\n",
              "    background-color: var(--bg-color);\n",
              "    border: none;\n",
              "    border-radius: 50%;\n",
              "    cursor: pointer;\n",
              "    display: none;\n",
              "    fill: var(--fill-color);\n",
              "    height: 32px;\n",
              "    padding: 0;\n",
              "    width: 32px;\n",
              "  }\n",
              "\n",
              "  .colab-df-quickchart:hover {\n",
              "    background-color: var(--hover-bg-color);\n",
              "    box-shadow: 0 1px 2px rgba(60, 64, 67, 0.3), 0 1px 3px 1px rgba(60, 64, 67, 0.15);\n",
              "    fill: var(--button-hover-fill-color);\n",
              "  }\n",
              "\n",
              "  .colab-df-quickchart-complete:disabled,\n",
              "  .colab-df-quickchart-complete:disabled:hover {\n",
              "    background-color: var(--disabled-bg-color);\n",
              "    fill: var(--disabled-fill-color);\n",
              "    box-shadow: none;\n",
              "  }\n",
              "\n",
              "  .colab-df-spinner {\n",
              "    border: 2px solid var(--fill-color);\n",
              "    border-color: transparent;\n",
              "    border-bottom-color: var(--fill-color);\n",
              "    animation:\n",
              "      spin 1s steps(1) infinite;\n",
              "  }\n",
              "\n",
              "  @keyframes spin {\n",
              "    0% {\n",
              "      border-color: transparent;\n",
              "      border-bottom-color: var(--fill-color);\n",
              "      border-left-color: var(--fill-color);\n",
              "    }\n",
              "    20% {\n",
              "      border-color: transparent;\n",
              "      border-left-color: var(--fill-color);\n",
              "      border-top-color: var(--fill-color);\n",
              "    }\n",
              "    30% {\n",
              "      border-color: transparent;\n",
              "      border-left-color: var(--fill-color);\n",
              "      border-top-color: var(--fill-color);\n",
              "      border-right-color: var(--fill-color);\n",
              "    }\n",
              "    40% {\n",
              "      border-color: transparent;\n",
              "      border-right-color: var(--fill-color);\n",
              "      border-top-color: var(--fill-color);\n",
              "    }\n",
              "    60% {\n",
              "      border-color: transparent;\n",
              "      border-right-color: var(--fill-color);\n",
              "    }\n",
              "    80% {\n",
              "      border-color: transparent;\n",
              "      border-right-color: var(--fill-color);\n",
              "      border-bottom-color: var(--fill-color);\n",
              "    }\n",
              "    90% {\n",
              "      border-color: transparent;\n",
              "      border-bottom-color: var(--fill-color);\n",
              "    }\n",
              "  }\n",
              "</style>\n",
              "\n",
              "      <script>\n",
              "        async function quickchart(key) {\n",
              "          const quickchartButtonEl =\n",
              "            document.querySelector('#' + key + ' button');\n",
              "          quickchartButtonEl.disabled = true;  // To prevent multiple clicks.\n",
              "          quickchartButtonEl.classList.add('colab-df-spinner');\n",
              "          try {\n",
              "            const charts = await google.colab.kernel.invokeFunction(\n",
              "                'suggestCharts', [key], {});\n",
              "          } catch (error) {\n",
              "            console.error('Error during call to suggestCharts:', error);\n",
              "          }\n",
              "          quickchartButtonEl.classList.remove('colab-df-spinner');\n",
              "          quickchartButtonEl.classList.add('colab-df-quickchart-complete');\n",
              "        }\n",
              "        (() => {\n",
              "          let quickchartButtonEl =\n",
              "            document.querySelector('#df-f1df12f0-04bb-473f-b9a8-46b04f612d7a button');\n",
              "          quickchartButtonEl.style.display =\n",
              "            google.colab.kernel.accessAllowed ? 'block' : 'none';\n",
              "        })();\n",
              "      </script>\n",
              "    </div>\n",
              "\n",
              "    </div>\n",
              "  </div>\n"
            ],
            "application/vnd.google.colaboratory.intrinsic+json": {
              "type": "dataframe",
              "variable_name": "df",
              "summary": "{\n  \"name\": \"df\",\n  \"rows\": 258,\n  \"fields\": [\n    {\n      \"column\": \"Age\",\n      \"properties\": {\n        \"dtype\": \"category\",\n        \"num_unique_values\": 3,\n        \"samples\": [\n          \"Jeune\",\n          \"Adulte\",\n          \"Moyen\"\n        ],\n        \"semantic_type\": \"\",\n        \"description\": \"\"\n      }\n    },\n    {\n      \"column\": \"Sexe\",\n      \"properties\": {\n        \"dtype\": \"number\",\n        \"std\": 0,\n        \"min\": 0,\n        \"max\": 1,\n        \"num_unique_values\": 2,\n        \"samples\": [\n          1,\n          0\n        ],\n        \"semantic_type\": \"\",\n        \"description\": \"\"\n      }\n    },\n    {\n      \"column\": \"Tabagisme\",\n      \"properties\": {\n        \"dtype\": \"number\",\n        \"std\": 0,\n        \"min\": 0,\n        \"max\": 1,\n        \"num_unique_values\": 2,\n        \"samples\": [\n          0,\n          1\n        ],\n        \"semantic_type\": \"\",\n        \"description\": \"\"\n      }\n    },\n    {\n      \"column\": \"Activite_physique\",\n      \"properties\": {\n        \"dtype\": \"number\",\n        \"std\": 0,\n        \"min\": 0,\n        \"max\": 1,\n        \"num_unique_values\": 2,\n        \"samples\": [\n          0,\n          1\n        ],\n        \"semantic_type\": \"\",\n        \"description\": \"\"\n      }\n    },\n    {\n      \"column\": \"Antecedents_familiaux\",\n      \"properties\": {\n        \"dtype\": \"number\",\n        \"std\": 0,\n        \"min\": 0,\n        \"max\": 1,\n        \"num_unique_values\": 2,\n        \"samples\": [\n          0,\n          1\n        ],\n        \"semantic_type\": \"\",\n        \"description\": \"\"\n      }\n    },\n    {\n      \"column\": \"Stress_chronique\",\n      \"properties\": {\n        \"dtype\": \"number\",\n        \"std\": 0,\n        \"min\": 0,\n        \"max\": 1,\n        \"num_unique_values\": 2,\n        \"samples\": [\n          1,\n          0\n        ],\n        \"semantic_type\": \"\",\n        \"description\": \"\"\n      }\n    },\n    {\n      \"column\": \"Hypertension\",\n      \"properties\": {\n        \"dtype\": \"number\",\n        \"std\": 0,\n        \"min\": 0,\n        \"max\": 1,\n        \"num_unique_values\": 2,\n        \"samples\": [\n          0,\n          1\n        ],\n        \"semantic_type\": \"\",\n        \"description\": \"\"\n      }\n    },\n    {\n      \"column\": \"Cholesterol_eleve\",\n      \"properties\": {\n        \"dtype\": \"number\",\n        \"std\": 0,\n        \"min\": 0,\n        \"max\": 1,\n        \"num_unique_values\": 2,\n        \"samples\": [\n          1,\n          0\n        ],\n        \"semantic_type\": \"\",\n        \"description\": \"\"\n      }\n    },\n    {\n      \"column\": \"Diabete\",\n      \"properties\": {\n        \"dtype\": \"number\",\n        \"std\": 0,\n        \"min\": 0,\n        \"max\": 1,\n        \"num_unique_values\": 2,\n        \"samples\": [\n          1,\n          0\n        ],\n        \"semantic_type\": \"\",\n        \"description\": \"\"\n      }\n    },\n    {\n      \"column\": \"Risque_cardiaque\",\n      \"properties\": {\n        \"dtype\": \"number\",\n        \"std\": 0,\n        \"min\": 0,\n        \"max\": 1,\n        \"num_unique_values\": 2,\n        \"samples\": [\n          0,\n          1\n        ],\n        \"semantic_type\": \"\",\n        \"description\": \"\"\n      }\n    }\n  ]\n}"
            }
          },
          "metadata": {},
          "execution_count": 15
        }
      ]
    },
    {
      "cell_type": "markdown",
      "source": [
        "##Exploratory Data Analysis"
      ],
      "metadata": {
        "id": "OhyXUHc5a5Su"
      }
    },
    {
      "cell_type": "markdown",
      "source": [
        "In this step we are doing some analysis to understand more our data and know relation between our different feature that can leads for a good dependecies in our BN."
      ],
      "metadata": {
        "id": "4kwZY_WjbGYE"
      }
    },
    {
      "cell_type": "markdown",
      "source": [
        "##Univariate Analysis"
      ],
      "metadata": {
        "id": "6QHcROE7bD2n"
      }
    },
    {
      "cell_type": "code",
      "source": [
        "import matplotlib.pyplot as plt\n",
        "import seaborn as sns"
      ],
      "metadata": {
        "id": "csdSU6JW9894"
      },
      "execution_count": null,
      "outputs": []
    },
    {
      "cell_type": "markdown",
      "source": [
        "Since all our features are categorical we used the barplot for the representation & visualisation, we understand each feature seperably before diving into relation between two variables."
      ],
      "metadata": {
        "id": "34og0u9Zbg0H"
      }
    },
    {
      "cell_type": "code",
      "source": [
        "for col in df.columns:\n",
        "    counts = df[col].value_counts()\n",
        "\n",
        "    temp_df = pd.DataFrame({col: counts.index, 'count': counts.values})\n",
        "\n",
        "    plt.figure(figsize=(6, 4))\n",
        "    sns.barplot(data=temp_df, x=col, y='count', hue=col, palette='coolwarm', legend=False)\n",
        "    plt.title(f'Distribution of {col}', fontsize=14)\n",
        "    plt.xlabel(col)\n",
        "    plt.ylabel('Count')\n",
        "    plt.tight_layout()\n",
        "    plt.show()"
      ],
      "metadata": {
        "colab": {
          "base_uri": "https://localhost:8080/",
          "height": 1000
        },
        "id": "7oieu0WLBrZi",
        "outputId": "39fbd4a4-51f4-4851-a24c-25f0d8056768"
      },
      "execution_count": null,
      "outputs": [
        {
          "output_type": "display_data",
          "data": {
            "text/plain": [
              "<Figure size 600x400 with 1 Axes>"
            ],
            "image/png": "[encoded data removed]"
          },
          "metadata": {}
        },
        {
          "output_type": "display_data",
          "data": {
            "text/plain": [
              "<Figure size 600x400 with 1 Axes>"
            ],
            "image/png": "[encoded data removed]"
          },
          "metadata": {}
        },
        {
          "output_type": "display_data",
          "data": {
            "text/plain": [
              "<Figure size 600x400 with 1 Axes>"
            ],
            "image/png": "[encoded data removed]"
          },
          "metadata": {}
        },
        {
          "output_type": "display_data",
          "data": {
            "text/plain": [
              "<Figure size 600x400 with 1 Axes>"
            ],
            "image/png": "[encoded data removed]"
          },
          "metadata": {}
        },
        {
          "output_type": "display_data",
          "data": {
            "text/plain": [
              "<Figure size 600x400 with 1 Axes>"
            ],
            "image/png": "[encoded data removed]"
          },
          "metadata": {}
        },
        {
          "output_type": "display_data",
          "data": {
            "text/plain": [
              "<Figure size 600x400 with 1 Axes>"
            ],
            "image/png": "[encoded data removed]"
          },
          "metadata": {}
        },
        {
          "output_type": "display_data",
          "data": {
            "text/plain": [
              "<Figure size 600x400 with 1 Axes>"
            ],
            "image/png": "[encoded data removed]"
          },
          "metadata": {}
        },
        {
          "output_type": "display_data",
          "data": {
            "text/plain": [
              "<Figure size 600x400 with 1 Axes>"
            ],
            "image/png": "[encoded data removed]"
          },
          "metadata": {}
        },
        {
          "output_type": "display_data",
          "data": {
            "text/plain": [
              "<Figure size 600x400 with 1 Axes>"
            ],
            "image/png": "[encoded data removed]"
          },
          "metadata": {}
        },
        {
          "output_type": "display_data",
          "data": {
            "text/plain": [
              "<Figure size 600x400 with 1 Axes>"
            ],
            "image/png": "[encoded data removed]"
          },
          "metadata": {}
        }
      ]
    },
    {
      "cell_type": "markdown",
      "source": [
        "##Bivariate Analysis"
      ],
      "metadata": {
        "id": "AlGi2gN7cJmT"
      }
    },
    {
      "cell_type": "markdown",
      "source": [
        "In the bivariate analysis, we check the relation between two variables, since all the variables are categorical so we will use KHI2."
      ],
      "metadata": {
        "id": "IgPIwlJocPOn"
      }
    },
    {
      "cell_type": "code",
      "source": [
        "from scipy.stats import chi2_contingency\n",
        "from sklearn.preprocessing import LabelEncoder\n",
        "import numpy as np"
      ],
      "metadata": {
        "id": "0fjv60M1CMkf"
      },
      "execution_count": null,
      "outputs": []
    },
    {
      "cell_type": "markdown",
      "source": [
        "First we check with the target variable \"Risque_Cardiaque\""
      ],
      "metadata": {
        "id": "izXv0DCugT4P"
      }
    },
    {
      "cell_type": "code",
      "source": [
        "import pandas as pd\n",
        "import matplotlib.pyplot as plt\n",
        "import seaborn as sns\n",
        "from scipy.stats import chi2_contingency\n",
        "\n",
        "target = 'Risque_cardiaque'\n",
        "\n",
        "all_features = df.columns.drop(target)\n",
        "\n",
        "for col in all_features:\n",
        "    print(f\"\\n📊 [Chi²] {col} vs {target}\")\n",
        "\n",
        "    df[col] = df[col].astype(str)\n",
        "\n",
        "    plt.figure(figsize=(7, 4))\n",
        "    sns.countplot(data=df, x=col, hue=target, palette='Set2')\n",
        "    plt.title(f'{col} vs {target}')\n",
        "    plt.xticks(rotation=45)\n",
        "    plt.tight_layout()\n",
        "    plt.show()\n",
        "\n",
        "    # Khi² Test\n",
        "    contingency = pd.crosstab(df[col], df[target])\n",
        "    chi2, p, _, _ = chi2_contingency(contingency)\n",
        "    print(f\"✅ Test du Khi² - p-value = {p:.4f}\")\n",
        "    if p < 0.05:\n",
        "        print(\"➡️ Association significative.\")\n",
        "    else:\n",
        "        print(\"❌ Aucune association significative.\")\n"
      ],
      "metadata": {
        "colab": {
          "base_uri": "https://localhost:8080/",
          "height": 1000
        },
        "id": "S7PLcizKZp7x",
        "outputId": "f65c5bb0-4172-40f7-e6ad-ef8d54fa9956"
      },
      "execution_count": null,
      "outputs": [
        {
          "output_type": "stream",
          "name": "stdout",
          "text": [
            "\n",
            "📊 [Chi²] Age vs Risque_cardiaque\n"
          ]
        },
        {
          "output_type": "display_data",
          "data": {
            "text/plain": [
              "<Figure size 700x400 with 1 Axes>"
            ],
            "image/png": "[encoded data removed]"
          },
          "metadata": {}
        },
        {
          "output_type": "stream",
          "name": "stdout",
          "text": [
            "✅ Test du Khi² - p-value = 0.5143\n",
            "❌ Aucune association significative.\n",
            "\n",
            "📊 [Chi²] Sexe vs Risque_cardiaque\n"
          ]
        },
        {
          "output_type": "display_data",
          "data": {
            "text/plain": [
              "<Figure size 700x400 with 1 Axes>"
            ],
            "image/png": "[encoded data removed]"
          },
          "metadata": {}
        },
        {
          "output_type": "stream",
          "name": "stdout",
          "text": [
            "✅ Test du Khi² - p-value = 0.9691\n",
            "❌ Aucune association significative.\n",
            "\n",
            "📊 [Chi²] Tabagisme vs Risque_cardiaque\n"
          ]
        },
        {
          "output_type": "display_data",
          "data": {
            "text/plain": [
              "<Figure size 700x400 with 1 Axes>"
            ],
            "image/png": "[encoded data removed]"
          },
          "metadata": {}
        },
        {
          "output_type": "stream",
          "name": "stdout",
          "text": [
            "✅ Test du Khi² - p-value = 0.0000\n",
            "➡️ Association significative.\n",
            "\n",
            "📊 [Chi²] Activite_physique vs Risque_cardiaque\n"
          ]
        },
        {
          "output_type": "display_data",
          "data": {
            "text/plain": [
              "<Figure size 700x400 with 1 Axes>"
            ],
            "image/png": "[encoded data removed]"
          },
          "metadata": {}
        },
        {
          "output_type": "stream",
          "name": "stdout",
          "text": [
            "✅ Test du Khi² - p-value = 0.9226\n",
            "❌ Aucune association significative.\n",
            "\n",
            "📊 [Chi²] Antecedents_familiaux vs Risque_cardiaque\n"
          ]
        },
        {
          "output_type": "display_data",
          "data": {
            "text/plain": [
              "<Figure size 700x400 with 1 Axes>"
            ],
            "image/png": "[encoded data removed]"
          },
          "metadata": {}
        },
        {
          "output_type": "stream",
          "name": "stdout",
          "text": [
            "✅ Test du Khi² - p-value = 0.0001\n",
            "➡️ Association significative.\n",
            "\n",
            "📊 [Chi²] Stress_chronique vs Risque_cardiaque\n"
          ]
        },
        {
          "output_type": "display_data",
          "data": {
            "text/plain": [
              "<Figure size 700x400 with 1 Axes>"
            ],
            "image/png": "[encoded data removed]"
          },
          "metadata": {}
        },
        {
          "output_type": "stream",
          "name": "stdout",
          "text": [
            "✅ Test du Khi² - p-value = 0.0000\n",
            "➡️ Association significative.\n",
            "\n",
            "📊 [Chi²] Hypertension vs Risque_cardiaque\n"
          ]
        },
        {
          "output_type": "display_data",
          "data": {
            "text/plain": [
              "<Figure size 700x400 with 1 Axes>"
            ],
            "image/png": "[encoded data removed]"
          },
          "metadata": {}
        },
        {
          "output_type": "stream",
          "name": "stdout",
          "text": [
            "✅ Test du Khi² - p-value = 0.0000\n",
            "➡️ Association significative.\n",
            "\n",
            "📊 [Chi²] Cholesterol_eleve vs Risque_cardiaque\n"
          ]
        },
        {
          "output_type": "display_data",
          "data": {
            "text/plain": [
              "<Figure size 700x400 with 1 Axes>"
            ],
            "image/png": "[encoded data removed]"
          },
          "metadata": {}
        },
        {
          "output_type": "stream",
          "name": "stdout",
          "text": [
            "✅ Test du Khi² - p-value = 0.0000\n",
            "➡️ Association significative.\n",
            "\n",
            "📊 [Chi²] Diabete vs Risque_cardiaque\n"
          ]
        },
        {
          "output_type": "display_data",
          "data": {
            "text/plain": [
              "<Figure size 700x400 with 1 Axes>"
            ],
            "image/png": "[encoded data removed]"
          },
          "metadata": {}
        },
        {
          "output_type": "stream",
          "name": "stdout",
          "text": [
            "✅ Test du Khi² - p-value = 0.0000\n",
            "➡️ Association significative.\n"
          ]
        }
      ]
    },
    {
      "cell_type": "markdown",
      "source": [
        "From the results of this analysis: we distinguish that Age, sexe & Activité physique, don't have a relation with the target variable"
      ],
      "metadata": {
        "id": "tThKacjjgsEv"
      }
    },
    {
      "cell_type": "markdown",
      "source": [
        "Idea: We check the relation of each variable with others and see the new relations"
      ],
      "metadata": {
        "id": "7Y0CnxHxhAZF"
      }
    },
    {
      "cell_type": "code",
      "source": [
        "import pandas as pd\n",
        "from scipy.stats import chi2_contingency\n",
        "\n",
        "df_str = df.astype(str)\n",
        "\n",
        "reference = 'Age'\n",
        "all_other_cols = df_str.columns.drop(reference)\n",
        "\n",
        "#Khi2 test between Age and other varibales\n",
        "results = []\n",
        "\n",
        "for col in all_other_cols:\n",
        "    print(f\"\\n📊 Chi² entre {reference} et {col}\")\n",
        "\n",
        "    contingency = pd.crosstab(df_str[reference], df_str[col])\n",
        "    chi2, p, _, _ = chi2_contingency(contingency)\n",
        "\n",
        "    print(f\"✅ p-value = {p:.4f}\")\n",
        "    if p < 0.05:\n",
        "        print(\"➡️ Association significative.\")\n",
        "    else:\n",
        "        print(\"❌ Aucune association significative.\")\n",
        "\n",
        "    results.append({'Variable': col, 'p-value': p})\n",
        "\n",
        "result_df = pd.DataFrame(results).sort_values(by='p-value')\n",
        "print(\"\\n📋 Résumé des résultats (classés par p-value) :\")\n",
        "print(result_df)\n"
      ],
      "metadata": {
        "colab": {
          "base_uri": "https://localhost:8080/"
        },
        "id": "-pIrOgHWc99H",
        "outputId": "deecc919-4679-4cc7-dce8-5918ae37b93d"
      },
      "execution_count": null,
      "outputs": [
        {
          "output_type": "stream",
          "name": "stdout",
          "text": [
            "\n",
            "📊 Chi² entre Age et Sexe\n",
            "✅ p-value = 0.9727\n",
            "❌ Aucune association significative.\n",
            "\n",
            "📊 Chi² entre Age et Tabagisme\n",
            "✅ p-value = 0.1676\n",
            "❌ Aucune association significative.\n",
            "\n",
            "📊 Chi² entre Age et Activite_physique\n",
            "✅ p-value = 0.3051\n",
            "❌ Aucune association significative.\n",
            "\n",
            "📊 Chi² entre Age et Antecedents_familiaux\n",
            "✅ p-value = 0.4458\n",
            "❌ Aucune association significative.\n",
            "\n",
            "📊 Chi² entre Age et Stress_chronique\n",
            "✅ p-value = 0.7891\n",
            "❌ Aucune association significative.\n",
            "\n",
            "📊 Chi² entre Age et Hypertension\n",
            "✅ p-value = 0.0993\n",
            "❌ Aucune association significative.\n",
            "\n",
            "📊 Chi² entre Age et Cholesterol_eleve\n",
            "✅ p-value = 0.0467\n",
            "➡️ Association significative.\n",
            "\n",
            "📊 Chi² entre Age et Diabete\n",
            "✅ p-value = 0.0287\n",
            "➡️ Association significative.\n",
            "\n",
            "📊 Chi² entre Age et Risque_cardiaque\n",
            "✅ p-value = 0.5143\n",
            "❌ Aucune association significative.\n",
            "\n",
            "📋 Résumé des résultats (classés par p-value) :\n",
            "                Variable   p-value\n",
            "7                Diabete  0.028727\n",
            "6      Cholesterol_eleve  0.046671\n",
            "5           Hypertension  0.099311\n",
            "1              Tabagisme  0.167553\n",
            "2      Activite_physique  0.305121\n",
            "3  Antecedents_familiaux  0.445809\n",
            "8       Risque_cardiaque  0.514341\n",
            "4       Stress_chronique  0.789074\n",
            "0                   Sexe  0.972715\n"
          ]
        }
      ]
    },
    {
      "cell_type": "markdown",
      "source": [
        "There is a relation between Age & diabete, Age & Cholesterol eleve"
      ],
      "metadata": {
        "id": "RkBf-iU0hlBT"
      }
    },
    {
      "cell_type": "code",
      "source": [
        "import pandas as pd\n",
        "from scipy.stats import chi2_contingency\n",
        "\n",
        "df_str = df.astype(str)\n",
        "\n",
        "reference = 'Sexe'\n",
        "all_other_cols = df_str.columns.drop(reference)\n",
        "\n",
        "results = []\n",
        "\n",
        "for col in all_other_cols:\n",
        "    print(f\"\\n📊 Chi² entre {reference} et {col}\")\n",
        "\n",
        "    contingency = pd.crosstab(df_str[reference], df_str[col])\n",
        "    chi2, p, _, _ = chi2_contingency(contingency)\n",
        "\n",
        "    print(f\"✅ p-value = {p:.4f}\")\n",
        "    if p < 0.05:\n",
        "        print(\"➡️ Association significative.\")\n",
        "    else:\n",
        "        print(\"❌ Aucune association significative.\")\n",
        "\n",
        "    results.append({'Variable': col, 'p-value': p})\n",
        "\n",
        "result_df = pd.DataFrame(results).sort_values(by='p-value')\n",
        "print(\"\\n📋 Résumé des résultats (classés par p-value) :\")\n",
        "print(result_df)\n"
      ],
      "metadata": {
        "colab": {
          "base_uri": "https://localhost:8080/"
        },
        "outputId": "c773784b-abc3-4a98-9cba-34aba0cc14ac",
        "id": "fuF0DTIVdb24"
      },
      "execution_count": null,
      "outputs": [
        {
          "output_type": "stream",
          "name": "stdout",
          "text": [
            "\n",
            "📊 Chi² entre Sexe et Age\n",
            "✅ p-value = 0.9727\n",
            "❌ Aucune association significative.\n",
            "\n",
            "📊 Chi² entre Sexe et Tabagisme\n",
            "✅ p-value = 0.6001\n",
            "❌ Aucune association significative.\n",
            "\n",
            "📊 Chi² entre Sexe et Activite_physique\n",
            "✅ p-value = 0.9691\n",
            "❌ Aucune association significative.\n",
            "\n",
            "📊 Chi² entre Sexe et Antecedents_familiaux\n",
            "✅ p-value = 0.9847\n",
            "❌ Aucune association significative.\n",
            "\n",
            "📊 Chi² entre Sexe et Stress_chronique\n",
            "✅ p-value = 0.9222\n",
            "❌ Aucune association significative.\n",
            "\n",
            "📊 Chi² entre Sexe et Hypertension\n",
            "✅ p-value = 0.5539\n",
            "❌ Aucune association significative.\n",
            "\n",
            "📊 Chi² entre Sexe et Cholesterol_eleve\n",
            "✅ p-value = 0.3366\n",
            "❌ Aucune association significative.\n",
            "\n",
            "📊 Chi² entre Sexe et Diabete\n",
            "✅ p-value = 1.0000\n",
            "❌ Aucune association significative.\n",
            "\n",
            "📊 Chi² entre Sexe et Risque_cardiaque\n",
            "✅ p-value = 0.9691\n",
            "❌ Aucune association significative.\n",
            "\n",
            "📋 Résumé des résultats (classés par p-value) :\n",
            "                Variable   p-value\n",
            "6      Cholesterol_eleve  0.336623\n",
            "5           Hypertension  0.553884\n",
            "1              Tabagisme  0.600090\n",
            "4       Stress_chronique  0.922187\n",
            "2      Activite_physique  0.969094\n",
            "8       Risque_cardiaque  0.969094\n",
            "0                    Age  0.972715\n",
            "3  Antecedents_familiaux  0.984719\n",
            "7                Diabete  1.000000\n"
          ]
        }
      ]
    },
    {
      "cell_type": "markdown",
      "source": [
        "The variable sexe does not have relation with any other variable."
      ],
      "metadata": {
        "id": "lNbeD7vgh7QO"
      }
    },
    {
      "cell_type": "code",
      "source": [
        "import pandas as pd\n",
        "from scipy.stats import chi2_contingency\n",
        "\n",
        "df_str = df.astype(str)\n",
        "\n",
        "reference = 'Activite_physique'\n",
        "all_other_cols = df_str.columns.drop(reference)\n",
        "\n",
        "results = []\n",
        "\n",
        "for col in all_other_cols:\n",
        "    print(f\"\\n📊 Chi² entre {reference} et {col}\")\n",
        "\n",
        "    contingency = pd.crosstab(df_str[reference], df_str[col])\n",
        "    chi2, p, _, _ = chi2_contingency(contingency)\n",
        "\n",
        "    print(f\"✅ p-value = {p:.4f}\")\n",
        "    if p < 0.05:\n",
        "        print(\"➡️ Association significative.\")\n",
        "    else:\n",
        "        print(\"❌ Aucune association significative.\")\n",
        "\n",
        "    results.append({'Variable': col, 'p-value': p})\n",
        "\n",
        "result_df = pd.DataFrame(results).sort_values(by='p-value')\n",
        "print(\"\\n📋 Résumé des résultats (classés par p-value) :\")\n",
        "print(result_df)\n"
      ],
      "metadata": {
        "colab": {
          "base_uri": "https://localhost:8080/"
        },
        "outputId": "a6c3ee7b-2df0-40eb-c797-a1e8084f5770",
        "id": "hNJhmp7xdzXZ"
      },
      "execution_count": null,
      "outputs": [
        {
          "output_type": "stream",
          "name": "stdout",
          "text": [
            "\n",
            "📊 Chi² entre Activite_physique et Age\n",
            "✅ p-value = 0.3051\n",
            "❌ Aucune association significative.\n",
            "\n",
            "📊 Chi² entre Activite_physique et Sexe\n",
            "✅ p-value = 0.9691\n",
            "❌ Aucune association significative.\n",
            "\n",
            "📊 Chi² entre Activite_physique et Tabagisme\n",
            "✅ p-value = 0.6772\n",
            "❌ Aucune association significative.\n",
            "\n",
            "📊 Chi² entre Activite_physique et Antecedents_familiaux\n",
            "✅ p-value = 1.0000\n",
            "❌ Aucune association significative.\n",
            "\n",
            "📊 Chi² entre Activite_physique et Stress_chronique\n",
            "✅ p-value = 0.2327\n",
            "❌ Aucune association significative.\n",
            "\n",
            "📊 Chi² entre Activite_physique et Hypertension\n",
            "✅ p-value = 1.0000\n",
            "❌ Aucune association significative.\n",
            "\n",
            "📊 Chi² entre Activite_physique et Cholesterol_eleve\n",
            "✅ p-value = 0.0093\n",
            "➡️ Association significative.\n",
            "\n",
            "📊 Chi² entre Activite_physique et Diabete\n",
            "✅ p-value = 0.6620\n",
            "❌ Aucune association significative.\n",
            "\n",
            "📊 Chi² entre Activite_physique et Risque_cardiaque\n",
            "✅ p-value = 0.9226\n",
            "❌ Aucune association significative.\n",
            "\n",
            "📋 Résumé des résultats (classés par p-value) :\n",
            "                Variable   p-value\n",
            "6      Cholesterol_eleve  0.009256\n",
            "4       Stress_chronique  0.232657\n",
            "0                    Age  0.305121\n",
            "7                Diabete  0.662040\n",
            "2              Tabagisme  0.677185\n",
            "8       Risque_cardiaque  0.922642\n",
            "1                   Sexe  0.969094\n",
            "3  Antecedents_familiaux  1.000000\n",
            "5           Hypertension  1.000000\n"
          ]
        }
      ]
    },
    {
      "cell_type": "markdown",
      "source": [
        "According to the dataset, activite physique got relation with cholesterol eleve"
      ],
      "metadata": {
        "id": "Mz_y75FjiIGK"
      }
    },
    {
      "cell_type": "markdown",
      "source": [
        "####Checking other variables"
      ],
      "metadata": {
        "id": "drhMuuDRiVqi"
      }
    },
    {
      "cell_type": "code",
      "source": [
        "import pandas as pd\n",
        "from scipy.stats import chi2_contingency\n",
        "\n",
        "df_str = df.astype(str)\n",
        "\n",
        "reference = 'Antecedents_familiaux'\n",
        "all_other_cols = df_str.columns.drop(reference)\n",
        "\n",
        "results = []\n",
        "\n",
        "for col in all_other_cols:\n",
        "    print(f\"\\n📊 Chi² entre {reference} et {col}\")\n",
        "\n",
        "    contingency = pd.crosstab(df_str[reference], df_str[col])\n",
        "    chi2, p, _, _ = chi2_contingency(contingency)\n",
        "\n",
        "    print(f\"✅ p-value = {p:.4f}\")\n",
        "    if p < 0.05:\n",
        "        print(\"➡️ Association significative.\")\n",
        "    else:\n",
        "        print(\"❌ Aucune association significative.\")\n",
        "\n",
        "    results.append({'Variable': col, 'p-value': p})\n",
        "\n",
        "result_df = pd.DataFrame(results).sort_values(by='p-value')\n",
        "print(\"\\n📋 Résumé des résultats (classés par p-value) :\")\n",
        "print(result_df)\n"
      ],
      "metadata": {
        "colab": {
          "base_uri": "https://localhost:8080/"
        },
        "outputId": "80a5d5cb-623e-4de8-db25-1e5fc08da23d",
        "id": "4T76jbLcusYj"
      },
      "execution_count": null,
      "outputs": [
        {
          "output_type": "stream",
          "name": "stdout",
          "text": [
            "\n",
            "📊 Chi² entre Antecedents_familiaux et Age\n",
            "✅ p-value = 0.4458\n",
            "❌ Aucune association significative.\n",
            "\n",
            "📊 Chi² entre Antecedents_familiaux et Sexe\n",
            "✅ p-value = 0.9847\n",
            "❌ Aucune association significative.\n",
            "\n",
            "📊 Chi² entre Antecedents_familiaux et Tabagisme\n",
            "✅ p-value = 0.3994\n",
            "❌ Aucune association significative.\n",
            "\n",
            "📊 Chi² entre Antecedents_familiaux et Activite_physique\n",
            "✅ p-value = 1.0000\n",
            "❌ Aucune association significative.\n",
            "\n",
            "📊 Chi² entre Antecedents_familiaux et Stress_chronique\n",
            "✅ p-value = 0.1934\n",
            "❌ Aucune association significative.\n",
            "\n",
            "📊 Chi² entre Antecedents_familiaux et Hypertension\n",
            "✅ p-value = 0.9275\n",
            "❌ Aucune association significative.\n",
            "\n",
            "📊 Chi² entre Antecedents_familiaux et Cholesterol_eleve\n",
            "✅ p-value = 0.6141\n",
            "❌ Aucune association significative.\n",
            "\n",
            "📊 Chi² entre Antecedents_familiaux et Diabete\n",
            "✅ p-value = 0.2708\n",
            "❌ Aucune association significative.\n",
            "\n",
            "📊 Chi² entre Antecedents_familiaux et Risque_cardiaque\n",
            "✅ p-value = 0.0001\n",
            "➡️ Association significative.\n",
            "\n",
            "📋 Résumé des résultats (classés par p-value) :\n",
            "            Variable   p-value\n",
            "8   Risque_cardiaque  0.000099\n",
            "4   Stress_chronique  0.193373\n",
            "7            Diabete  0.270780\n",
            "2          Tabagisme  0.399377\n",
            "0                Age  0.445809\n",
            "6  Cholesterol_eleve  0.614057\n",
            "5       Hypertension  0.927488\n",
            "1               Sexe  0.984719\n",
            "3  Activite_physique  1.000000\n"
          ]
        }
      ]
    },
    {
      "cell_type": "code",
      "source": [
        "import pandas as pd\n",
        "from scipy.stats import chi2_contingency\n",
        "\n",
        "df_str = df.astype(str)\n",
        "\n",
        "reference = 'Tabagisme'\n",
        "all_other_cols = df_str.columns.drop(reference)\n",
        "\n",
        "results = []\n",
        "\n",
        "for col in all_other_cols:\n",
        "    print(f\"\\n📊 Chi² entre {reference} et {col}\")\n",
        "\n",
        "    contingency = pd.crosstab(df_str[reference], df_str[col])\n",
        "    chi2, p, _, _ = chi2_contingency(contingency)\n",
        "\n",
        "    print(f\"✅ p-value = {p:.4f}\")\n",
        "    if p < 0.05:\n",
        "        print(\"➡️ Association significative.\")\n",
        "    else:\n",
        "        print(\"❌ Aucune association significative.\")\n",
        "\n",
        "    results.append({'Variable': col, 'p-value': p})\n",
        "\n",
        "result_df = pd.DataFrame(results).sort_values(by='p-value')\n",
        "print(\"\\n📋 Résumé des résultats (classés par p-value) :\")\n",
        "print(result_df)\n"
      ],
      "metadata": {
        "colab": {
          "base_uri": "https://localhost:8080/"
        },
        "outputId": "8f32ac19-1286-4477-a9e4-72d306f29a8a",
        "id": "MGSGhlEgu-7E"
      },
      "execution_count": null,
      "outputs": [
        {
          "output_type": "stream",
          "name": "stdout",
          "text": [
            "\n",
            "📊 Chi² entre Tabagisme et Age\n",
            "✅ p-value = 0.1676\n",
            "❌ Aucune association significative.\n",
            "\n",
            "📊 Chi² entre Tabagisme et Sexe\n",
            "✅ p-value = 0.6001\n",
            "❌ Aucune association significative.\n",
            "\n",
            "📊 Chi² entre Tabagisme et Activite_physique\n",
            "✅ p-value = 0.6772\n",
            "❌ Aucune association significative.\n",
            "\n",
            "📊 Chi² entre Tabagisme et Antecedents_familiaux\n",
            "✅ p-value = 0.3994\n",
            "❌ Aucune association significative.\n",
            "\n",
            "📊 Chi² entre Tabagisme et Stress_chronique\n",
            "✅ p-value = 0.2205\n",
            "❌ Aucune association significative.\n",
            "\n",
            "📊 Chi² entre Tabagisme et Hypertension\n",
            "✅ p-value = 0.0705\n",
            "❌ Aucune association significative.\n",
            "\n",
            "📊 Chi² entre Tabagisme et Cholesterol_eleve\n",
            "✅ p-value = 0.7243\n",
            "❌ Aucune association significative.\n",
            "\n",
            "📊 Chi² entre Tabagisme et Diabete\n",
            "✅ p-value = 0.9282\n",
            "❌ Aucune association significative.\n",
            "\n",
            "📊 Chi² entre Tabagisme et Risque_cardiaque\n",
            "✅ p-value = 0.0000\n",
            "➡️ Association significative.\n",
            "\n",
            "📋 Résumé des résultats (classés par p-value) :\n",
            "                Variable       p-value\n",
            "8       Risque_cardiaque  6.651522e-09\n",
            "5           Hypertension  7.051991e-02\n",
            "0                    Age  1.675532e-01\n",
            "4       Stress_chronique  2.205085e-01\n",
            "3  Antecedents_familiaux  3.993767e-01\n",
            "1                   Sexe  6.000898e-01\n",
            "2      Activite_physique  6.771849e-01\n",
            "6      Cholesterol_eleve  7.242992e-01\n",
            "7                Diabete  9.281833e-01\n"
          ]
        }
      ]
    },
    {
      "cell_type": "code",
      "source": [
        "import pandas as pd\n",
        "from scipy.stats import chi2_contingency\n",
        "\n",
        "df_str = df.astype(str)\n",
        "\n",
        "reference = 'Stress_chronique'\n",
        "all_other_cols = df_str.columns.drop(reference)\n",
        "\n",
        "results = []\n",
        "\n",
        "for col in all_other_cols:\n",
        "    print(f\"\\n📊 Chi² entre {reference} et {col}\")\n",
        "\n",
        "    contingency = pd.crosstab(df_str[reference], df_str[col])\n",
        "    chi2, p, _, _ = chi2_contingency(contingency)\n",
        "\n",
        "    print(f\"✅ p-value = {p:.4f}\")\n",
        "    if p < 0.05:\n",
        "        print(\"➡️ Association significative.\")\n",
        "    else:\n",
        "        print(\"❌ Aucune association significative.\")\n",
        "\n",
        "    results.append({'Variable': col, 'p-value': p})\n",
        "\n",
        "result_df = pd.DataFrame(results).sort_values(by='p-value')\n",
        "print(\"\\n📋 Résumé des résultats (classés par p-value) :\")\n",
        "print(result_df)\n"
      ],
      "metadata": {
        "colab": {
          "base_uri": "https://localhost:8080/"
        },
        "outputId": "564406e3-ee5a-4bfb-f285-722c94d5d97e",
        "id": "A42PTc-SvQhD"
      },
      "execution_count": null,
      "outputs": [
        {
          "output_type": "stream",
          "name": "stdout",
          "text": [
            "\n",
            "📊 Chi² entre Stress_chronique et Age\n",
            "✅ p-value = 0.7891\n",
            "❌ Aucune association significative.\n",
            "\n",
            "📊 Chi² entre Stress_chronique et Sexe\n",
            "✅ p-value = 0.9222\n",
            "❌ Aucune association significative.\n",
            "\n",
            "📊 Chi² entre Stress_chronique et Tabagisme\n",
            "✅ p-value = 0.2205\n",
            "❌ Aucune association significative.\n",
            "\n",
            "📊 Chi² entre Stress_chronique et Activite_physique\n",
            "✅ p-value = 0.2327\n",
            "❌ Aucune association significative.\n",
            "\n",
            "📊 Chi² entre Stress_chronique et Antecedents_familiaux\n",
            "✅ p-value = 0.1934\n",
            "❌ Aucune association significative.\n",
            "\n",
            "📊 Chi² entre Stress_chronique et Hypertension\n",
            "✅ p-value = 0.3232\n",
            "❌ Aucune association significative.\n",
            "\n",
            "📊 Chi² entre Stress_chronique et Cholesterol_eleve\n",
            "✅ p-value = 0.4193\n",
            "❌ Aucune association significative.\n",
            "\n",
            "📊 Chi² entre Stress_chronique et Diabete\n",
            "✅ p-value = 0.7225\n",
            "❌ Aucune association significative.\n",
            "\n",
            "📊 Chi² entre Stress_chronique et Risque_cardiaque\n",
            "✅ p-value = 0.0000\n",
            "➡️ Association significative.\n",
            "\n",
            "📋 Résumé des résultats (classés par p-value) :\n",
            "                Variable       p-value\n",
            "8       Risque_cardiaque  5.341704e-11\n",
            "4  Antecedents_familiaux  1.933732e-01\n",
            "2              Tabagisme  2.205085e-01\n",
            "3      Activite_physique  2.326572e-01\n",
            "5           Hypertension  3.232054e-01\n",
            "6      Cholesterol_eleve  4.192906e-01\n",
            "7                Diabete  7.224748e-01\n",
            "0                    Age  7.890743e-01\n",
            "1                   Sexe  9.221872e-01\n"
          ]
        }
      ]
    },
    {
      "cell_type": "code",
      "source": [
        "import pandas as pd\n",
        "from scipy.stats import chi2_contingency\n",
        "\n",
        "df_str = df.astype(str)\n",
        "\n",
        "reference = 'Hypertension'\n",
        "all_other_cols = df_str.columns.drop(reference)\n",
        "\n",
        "results = []\n",
        "\n",
        "for col in all_other_cols:\n",
        "    print(f\"\\n📊 Chi² entre {reference} et {col}\")\n",
        "\n",
        "    contingency = pd.crosstab(df_str[reference], df_str[col])\n",
        "    chi2, p, _, _ = chi2_contingency(contingency)\n",
        "\n",
        "    print(f\"✅ p-value = {p:.4f}\")\n",
        "    if p < 0.05:\n",
        "        print(\"➡️ Association significative.\")\n",
        "    else:\n",
        "        print(\"❌ Aucune association significative.\")\n",
        "\n",
        "    results.append({'Variable': col, 'p-value': p})\n",
        "\n",
        "result_df = pd.DataFrame(results).sort_values(by='p-value')\n",
        "print(\"\\n📋 Résumé des résultats (classés par p-value) :\")\n",
        "print(result_df)\n"
      ],
      "metadata": {
        "colab": {
          "base_uri": "https://localhost:8080/"
        },
        "outputId": "4edb7d7d-159a-4f05-a146-7f75d81b84b9",
        "id": "rKmsF-9-vf3-"
      },
      "execution_count": null,
      "outputs": [
        {
          "output_type": "stream",
          "name": "stdout",
          "text": [
            "\n",
            "📊 Chi² entre Hypertension et Age\n",
            "✅ p-value = 0.0993\n",
            "❌ Aucune association significative.\n",
            "\n",
            "📊 Chi² entre Hypertension et Sexe\n",
            "✅ p-value = 0.5539\n",
            "❌ Aucune association significative.\n",
            "\n",
            "📊 Chi² entre Hypertension et Tabagisme\n",
            "✅ p-value = 0.0705\n",
            "❌ Aucune association significative.\n",
            "\n",
            "📊 Chi² entre Hypertension et Activite_physique\n",
            "✅ p-value = 1.0000\n",
            "❌ Aucune association significative.\n",
            "\n",
            "📊 Chi² entre Hypertension et Antecedents_familiaux\n",
            "✅ p-value = 0.9275\n",
            "❌ Aucune association significative.\n",
            "\n",
            "📊 Chi² entre Hypertension et Stress_chronique\n",
            "✅ p-value = 0.3232\n",
            "❌ Aucune association significative.\n",
            "\n",
            "📊 Chi² entre Hypertension et Cholesterol_eleve\n",
            "✅ p-value = 1.0000\n",
            "❌ Aucune association significative.\n",
            "\n",
            "📊 Chi² entre Hypertension et Diabete\n",
            "✅ p-value = 0.4744\n",
            "❌ Aucune association significative.\n",
            "\n",
            "📊 Chi² entre Hypertension et Risque_cardiaque\n",
            "✅ p-value = 0.0000\n",
            "➡️ Association significative.\n",
            "\n",
            "📋 Résumé des résultats (classés par p-value) :\n",
            "                Variable       p-value\n",
            "8       Risque_cardiaque  1.833267e-10\n",
            "2              Tabagisme  7.051991e-02\n",
            "0                    Age  9.931086e-02\n",
            "5       Stress_chronique  3.232054e-01\n",
            "7                Diabete  4.744286e-01\n",
            "1                   Sexe  5.538835e-01\n",
            "4  Antecedents_familiaux  9.274876e-01\n",
            "3      Activite_physique  1.000000e+00\n",
            "6      Cholesterol_eleve  1.000000e+00\n"
          ]
        }
      ]
    },
    {
      "cell_type": "code",
      "source": [
        "import pandas as pd\n",
        "from scipy.stats import chi2_contingency\n",
        "\n",
        "df_str = df.astype(str)\n",
        "\n",
        "reference = 'Cholesterol_eleve'\n",
        "all_other_cols = df_str.columns.drop(reference)\n",
        "\n",
        "results = []\n",
        "\n",
        "for col in all_other_cols:\n",
        "    print(f\"\\n📊 Chi² entre {reference} et {col}\")\n",
        "\n",
        "    contingency = pd.crosstab(df_str[reference], df_str[col])\n",
        "    chi2, p, _, _ = chi2_contingency(contingency)\n",
        "\n",
        "    print(f\"✅ p-value = {p:.4f}\")\n",
        "    if p < 0.05:\n",
        "        print(\"➡️ Association significative.\")\n",
        "    else:\n",
        "        print(\"❌ Aucune association significative.\")\n",
        "\n",
        "    results.append({'Variable': col, 'p-value': p})\n",
        "\n",
        "result_df = pd.DataFrame(results).sort_values(by='p-value')\n",
        "print(\"\\n📋 Résumé des résultats (classés par p-value) :\")\n",
        "print(result_df)\n"
      ],
      "metadata": {
        "colab": {
          "base_uri": "https://localhost:8080/"
        },
        "outputId": "6250b417-a189-461a-e923-8192626fcf82",
        "id": "mhMLv1Z_vwky"
      },
      "execution_count": null,
      "outputs": [
        {
          "output_type": "stream",
          "name": "stdout",
          "text": [
            "\n",
            "📊 Chi² entre Cholesterol_eleve et Age\n",
            "✅ p-value = 0.0467\n",
            "➡️ Association significative.\n",
            "\n",
            "📊 Chi² entre Cholesterol_eleve et Sexe\n",
            "✅ p-value = 0.3366\n",
            "❌ Aucune association significative.\n",
            "\n",
            "📊 Chi² entre Cholesterol_eleve et Tabagisme\n",
            "✅ p-value = 0.7243\n",
            "❌ Aucune association significative.\n",
            "\n",
            "📊 Chi² entre Cholesterol_eleve et Activite_physique\n",
            "✅ p-value = 0.0093\n",
            "➡️ Association significative.\n",
            "\n",
            "📊 Chi² entre Cholesterol_eleve et Antecedents_familiaux\n",
            "✅ p-value = 0.6141\n",
            "❌ Aucune association significative.\n",
            "\n",
            "📊 Chi² entre Cholesterol_eleve et Stress_chronique\n",
            "✅ p-value = 0.4193\n",
            "❌ Aucune association significative.\n",
            "\n",
            "📊 Chi² entre Cholesterol_eleve et Hypertension\n",
            "✅ p-value = 1.0000\n",
            "❌ Aucune association significative.\n",
            "\n",
            "📊 Chi² entre Cholesterol_eleve et Diabete\n",
            "✅ p-value = 0.0147\n",
            "➡️ Association significative.\n",
            "\n",
            "📊 Chi² entre Cholesterol_eleve et Risque_cardiaque\n",
            "✅ p-value = 0.0000\n",
            "➡️ Association significative.\n",
            "\n",
            "📋 Résumé des résultats (classés par p-value) :\n",
            "                Variable       p-value\n",
            "8       Risque_cardiaque  1.391737e-10\n",
            "3      Activite_physique  9.255952e-03\n",
            "7                Diabete  1.469843e-02\n",
            "0                    Age  4.667116e-02\n",
            "1                   Sexe  3.366229e-01\n",
            "5       Stress_chronique  4.192906e-01\n",
            "4  Antecedents_familiaux  6.140566e-01\n",
            "2              Tabagisme  7.242992e-01\n",
            "6           Hypertension  1.000000e+00\n"
          ]
        }
      ]
    },
    {
      "cell_type": "markdown",
      "source": [
        "New relation is detected between cholesterol eleve and diabete"
      ],
      "metadata": {
        "id": "LDhOhfsxi19P"
      }
    },
    {
      "cell_type": "code",
      "source": [
        "import pandas as pd\n",
        "from scipy.stats import chi2_contingency\n",
        "\n",
        "df_str = df.astype(str)\n",
        "\n",
        "reference = 'Diabete'\n",
        "all_other_cols = df_str.columns.drop(reference)\n",
        "\n",
        "results = []\n",
        "\n",
        "for col in all_other_cols:\n",
        "    print(f\"\\n📊 Chi² entre {reference} et {col}\")\n",
        "\n",
        "    contingency = pd.crosstab(df_str[reference], df_str[col])\n",
        "    chi2, p, _, _ = chi2_contingency(contingency)\n",
        "\n",
        "    print(f\"✅ p-value = {p:.4f}\")\n",
        "    if p < 0.05:\n",
        "        print(\"➡️ Association significative.\")\n",
        "    else:\n",
        "        print(\"❌ Aucune association significative.\")\n",
        "\n",
        "    results.append({'Variable': col, 'p-value': p})\n",
        "\n",
        "result_df = pd.DataFrame(results).sort_values(by='p-value')\n",
        "print(\"\\n📋 Résumé des résultats (classés par p-value) :\")\n",
        "print(result_df)\n"
      ],
      "metadata": {
        "colab": {
          "base_uri": "https://localhost:8080/"
        },
        "outputId": "b28cd8b6-e623-4762-c005-82b4863a3cea",
        "id": "uAzgu6bTwCLy"
      },
      "execution_count": null,
      "outputs": [
        {
          "output_type": "stream",
          "name": "stdout",
          "text": [
            "\n",
            "📊 Chi² entre Diabete et Age\n",
            "✅ p-value = 0.0287\n",
            "➡️ Association significative.\n",
            "\n",
            "📊 Chi² entre Diabete et Sexe\n",
            "✅ p-value = 1.0000\n",
            "❌ Aucune association significative.\n",
            "\n",
            "📊 Chi² entre Diabete et Tabagisme\n",
            "✅ p-value = 0.9282\n",
            "❌ Aucune association significative.\n",
            "\n",
            "📊 Chi² entre Diabete et Activite_physique\n",
            "✅ p-value = 0.6620\n",
            "❌ Aucune association significative.\n",
            "\n",
            "📊 Chi² entre Diabete et Antecedents_familiaux\n",
            "✅ p-value = 0.2708\n",
            "❌ Aucune association significative.\n",
            "\n",
            "📊 Chi² entre Diabete et Stress_chronique\n",
            "✅ p-value = 0.7225\n",
            "❌ Aucune association significative.\n",
            "\n",
            "📊 Chi² entre Diabete et Hypertension\n",
            "✅ p-value = 0.4744\n",
            "❌ Aucune association significative.\n",
            "\n",
            "📊 Chi² entre Diabete et Cholesterol_eleve\n",
            "✅ p-value = 0.0147\n",
            "➡️ Association significative.\n",
            "\n",
            "📊 Chi² entre Diabete et Risque_cardiaque\n",
            "✅ p-value = 0.0000\n",
            "➡️ Association significative.\n",
            "\n",
            "📋 Résumé des résultats (classés par p-value) :\n",
            "                Variable       p-value\n",
            "8       Risque_cardiaque  4.933855e-07\n",
            "7      Cholesterol_eleve  1.469843e-02\n",
            "0                    Age  2.872703e-02\n",
            "4  Antecedents_familiaux  2.707803e-01\n",
            "6           Hypertension  4.744286e-01\n",
            "3      Activite_physique  6.620396e-01\n",
            "5       Stress_chronique  7.224748e-01\n",
            "2              Tabagisme  9.281833e-01\n",
            "1                   Sexe  1.000000e+00\n"
          ]
        }
      ]
    },
    {
      "cell_type": "markdown",
      "source": [
        "**We decide to remove the variable sexe since it will not have effect on our BN according to this dataset**"
      ],
      "metadata": {
        "id": "mfmCmL4cjBLZ"
      }
    },
    {
      "cell_type": "code",
      "source": [
        "df = df.drop(columns=['Sexe'])"
      ],
      "metadata": {
        "id": "D8-vjCK9waNk"
      },
      "execution_count": null,
      "outputs": []
    },
    {
      "cell_type": "markdown",
      "source": [
        "##THE BAYESIAN NETWORK MODELISATION"
      ],
      "metadata": {
        "id": "-RSaAuXCjR4Q"
      }
    },
    {
      "cell_type": "code",
      "source": [
        "from pgmpy.models import DiscreteBayesianNetwork"
      ],
      "metadata": {
        "id": "RXf5_XRE4eVz"
      },
      "execution_count": null,
      "outputs": []
    },
    {
      "cell_type": "code",
      "source": [
        "model = DiscreteBayesianNetwork([\n",
        "    ('Age', 'Activite_physique'),\n",
        "    ('Age', 'Cholesterol_eleve'),\n",
        "    ('Activite_physique', 'Cholesterol_eleve'),\n",
        "    ('Cholesterol_eleve', 'Diabete'),\n",
        "    ('Hypertension', 'Risque_cardiaque'),\n",
        "    ('Cholesterol_eleve', 'Risque_cardiaque'),\n",
        "    ('Diabete', 'Risque_cardiaque'),\n",
        "    ('Stress_chronique', 'Risque_cardiaque'),\n",
        "    ('Tabagisme', 'Risque_cardiaque'),\n",
        "    ('Antecedents_familiaux', 'Risque_cardiaque')\n",
        "])\n"
      ],
      "metadata": {
        "id": "t2O0J-wt1mya"
      },
      "execution_count": null,
      "outputs": []
    },
    {
      "cell_type": "code",
      "source": [
        "states = {\n",
        "    'Age': ['Jeune', 'Moyen', 'Adulte'],\n",
        "    'Tabagisme': [0, 1],\n",
        "    'Activite_physique': [0, 1],\n",
        "    'Antecedents_familiaux': [0, 1],\n",
        "    'Stress_chronique': [0, 1],\n",
        "    'Hypertension': [0, 1],\n",
        "    'Cholesterol_eleve': [0, 1],\n",
        "    'Diabete': [0, 1],\n",
        "    'Risque_cardiaque': [0, 1]\n",
        "}"
      ],
      "metadata": {
        "id": "XpOpILCP6mdP"
      },
      "execution_count": null,
      "outputs": []
    },
    {
      "cell_type": "markdown",
      "source": [
        "### Splitting data 80% training, 20% test"
      ],
      "metadata": {
        "id": "g_94cNoljdt0"
      }
    },
    {
      "cell_type": "code",
      "source": [
        "from sklearn.model_selection import train_test_split"
      ],
      "metadata": {
        "id": "q1U_zuqv7NVh"
      },
      "execution_count": null,
      "outputs": []
    },
    {
      "cell_type": "code",
      "source": [
        "train_data, test_data = train_test_split(df, test_size=0.2, random_state=42)"
      ],
      "metadata": {
        "id": "bs875A4D7PhK"
      },
      "execution_count": null,
      "outputs": []
    },
    {
      "cell_type": "markdown",
      "source": [
        "####Creating the CPTs (Conditional Probability Tables) for each node in the Bayesian Network based on the training data."
      ],
      "metadata": {
        "id": "vB7Pxp2Mj7CC"
      }
    },
    {
      "cell_type": "code",
      "source": [
        "model.fit(train_data, estimator=MaximumLikelihoodEstimator)"
      ],
      "metadata": {
        "colab": {
          "base_uri": "https://localhost:8080/"
        },
        "id": "e3a6mP-K7Vrm",
        "outputId": "d29599ed-c531-4e6d-93b9-4c36a2c3eebf"
      },
      "execution_count": null,
      "outputs": [
        {
          "output_type": "execute_result",
          "data": {
            "text/plain": [
              "<pgmpy.models.DiscreteBayesianNetwork.DiscreteBayesianNetwork at 0x7f3655a01f50>"
            ]
          },
          "metadata": {},
          "execution_count": 38
        }
      ]
    },
    {
      "cell_type": "code",
      "source": [
        "print(\"Le modèle est valide :\", model.check_model())"
      ],
      "metadata": {
        "colab": {
          "base_uri": "https://localhost:8080/"
        },
        "id": "pOmRkcNV7kNN",
        "outputId": "0c8045b9-df6e-4e52-aa48-c8a6b0ae5d30"
      },
      "execution_count": null,
      "outputs": [
        {
          "output_type": "stream",
          "name": "stdout",
          "text": [
            "Le modèle est valide : True\n"
          ]
        }
      ]
    },
    {
      "cell_type": "markdown",
      "source": [
        "The Variable Elimination algorithm works by summing (or eliminating) out variables you don't care about, to get the marginal or conditional probabilities you want."
      ],
      "metadata": {
        "id": "sUUbvPV9lUhA"
      }
    },
    {
      "cell_type": "markdown",
      "source": [
        "##**Inferences**"
      ],
      "metadata": {
        "id": "rnf0vS-Il8lf"
      }
    },
    {
      "cell_type": "code",
      "source": [
        "inference = VariableElimination(model)"
      ],
      "metadata": {
        "id": "lllo2lpW7mVe"
      },
      "execution_count": null,
      "outputs": []
    },
    {
      "cell_type": "markdown",
      "source": [
        "**1st Inference:** Quelle est la probabilité qu'une personne soit à risque si elle est âgée, fume, a de l'hypertension,\n",
        "du diabète et est en situation de stress chronique ?"
      ],
      "metadata": {
        "id": "8GHuRjcOlXue"
      }
    },
    {
      "cell_type": "code",
      "source": [
        "q1 = inference.query(\n",
        "    variables=['Risque_cardiaque'],\n",
        "    evidence={\n",
        "        'Age': 'Adulte',\n",
        "        'Tabagisme': '1',\n",
        "        'Hypertension': '1',\n",
        "        'Diabete': '1',\n",
        "        'Stress_chronique': '1'\n",
        "    }\n",
        ")\n",
        "print(\"\\n🧠 Q1 - Risque si âgé, fumeur, hypertendu, diabétique, stressé :\")\n",
        "print(q1)"
      ],
      "metadata": {
        "colab": {
          "base_uri": "https://localhost:8080/"
        },
        "id": "Ul01fNjw7qyS",
        "outputId": "c7a5ac39-032e-4c6e-865b-5de6e5a74967"
      },
      "execution_count": null,
      "outputs": [
        {
          "output_type": "stream",
          "name": "stdout",
          "text": [
            "\n",
            "🧠 Q1 - Risque si âgé, fumeur, hypertendu, diabétique, stressé :\n",
            "+---------------------+-------------------------+\n",
            "| Risque_cardiaque    |   phi(Risque_cardiaque) |\n",
            "+=====================+=========================+\n",
            "| Risque_cardiaque(0) |                  0.0451 |\n",
            "+---------------------+-------------------------+\n",
            "| Risque_cardiaque(1) |                  0.9549 |\n",
            "+---------------------+-------------------------+\n"
          ]
        }
      ]
    },
    {
      "cell_type": "markdown",
      "source": [
        "just a reminder 0 for Non & 1 for Oui"
      ],
      "metadata": {
        "id": "HSBtQMLoltid"
      }
    },
    {
      "cell_type": "markdown",
      "source": [
        "**2nd Inference:** Quelle est la probabilité de ne pas être à risque pour un jeune, sportif, non-fumeur, sans\n",
        "antécédents familiaux ?ique ?"
      ],
      "metadata": {
        "id": "m8tvazpel3Yp"
      }
    },
    {
      "cell_type": "code",
      "source": [
        "q2 = inference.query(\n",
        "    variables=['Risque_cardiaque'],\n",
        "    evidence={\n",
        "        'Age': 'Jeune',\n",
        "        'Activite_physique': '1',\n",
        "        'Tabagisme': '0',\n",
        "        'Antecedents_familiaux': '0'\n",
        "    }\n",
        ")\n",
        "print(\"\\n🧘 Q2 - Pas à risque si jeune, sportif, non-fumeur, pas d’antécédents :\")\n",
        "print(q2)"
      ],
      "metadata": {
        "colab": {
          "base_uri": "https://localhost:8080/"
        },
        "id": "QLc4GuaL9rZ6",
        "outputId": "b4595c3f-6fd2-47e4-957f-b9bdfcb3c661"
      },
      "execution_count": null,
      "outputs": [
        {
          "output_type": "stream",
          "name": "stdout",
          "text": [
            "\n",
            "🧘 Q2 - Pas à risque si jeune, sportif, non-fumeur, pas d’antécédents :\n",
            "+---------------------+-------------------------+\n",
            "| Risque_cardiaque    |   phi(Risque_cardiaque) |\n",
            "+=====================+=========================+\n",
            "| Risque_cardiaque(0) |                  0.7315 |\n",
            "+---------------------+-------------------------+\n",
            "| Risque_cardiaque(1) |                  0.2685 |\n",
            "+---------------------+-------------------------+\n"
          ]
        }
      ]
    },
    {
      "cell_type": "markdown",
      "source": [
        "The us of the Bayesian Network to predict the target variable 'Risque_cardiaque' for each test sample based on other features and calculates the overall prediction accuracy."
      ],
      "metadata": {
        "id": "DELuzy1unf2p"
      }
    },
    {
      "cell_type": "code",
      "source": [
        "cor = 0\n",
        "tot = len(test_data)\n",
        "\n",
        "for _, row in test_data.iterrows():\n",
        "    target = row.drop('Risque_cardiaque').to_dict()  # features used as evidence\n",
        "    try:\n",
        "        res = inference.query(variables=['Risque_cardiaque'], evidence=target)\n",
        "        pred = int(res.values.argmax())\n",
        "        actual = row['Risque_cardiaque']\n",
        "        if pred == actual:\n",
        "            cor += 1\n",
        "    except:\n",
        "        tot -= 1\n",
        "\n",
        "accuracy = cor / tot\n",
        "print(f\"\\n✅ Accuracy on the test data : {accuracy:.2%}\")\n"
      ],
      "metadata": {
        "colab": {
          "base_uri": "https://localhost:8080/"
        },
        "id": "IpxQ0NPH9_TH",
        "outputId": "d0033a7c-7880-4fe6-f45c-08ccc76265a7"
      },
      "execution_count": null,
      "outputs": [
        {
          "output_type": "stream",
          "name": "stdout",
          "text": [
            "\n",
            "✅ Accuracy on the test data : 100.00%\n"
          ]
        }
      ]
    },
    {
      "cell_type": "markdown",
      "source": [
        "###Checking the confusion matrix since accuracy is 100%"
      ],
      "metadata": {
        "id": "3OiSeqaDnj01"
      }
    },
    {
      "cell_type": "code",
      "source": [
        "from sklearn.metrics import confusion_matrix, ConfusionMatrixDisplay\n",
        "import matplotlib.pyplot as plt\n",
        "\n",
        "y_true = []\n",
        "y_pred = []\n",
        "total = 0\n",
        "\n",
        "for _, row in test_data.iterrows():\n",
        "    evidence = row.drop('Risque_cardiaque').to_dict()\n",
        "    try:\n",
        "        result = inference.query(variables=['Risque_cardiaque'], evidence=evidence)\n",
        "        predicted = int(result.values.argmax())\n",
        "        actual = row['Risque_cardiaque']\n",
        "\n",
        "        y_true.append(actual)\n",
        "        y_pred.append(predicted)\n",
        "        total += 1\n",
        "    except:\n",
        "        continue\n",
        "\n",
        "cm = confusion_matrix(y_true, y_pred, labels=[0, 1])\n",
        "disp = ConfusionMatrixDisplay(confusion_matrix=cm, display_labels=[\"Non à risque\", \"À risque\"])\n",
        "\n",
        "disp.plot(cmap=plt.cm.Blues)\n",
        "plt.title(\"Matrice de confusion du modèle\")\n",
        "plt.show()\n"
      ],
      "metadata": {
        "colab": {
          "base_uri": "https://localhost:8080/",
          "height": 474
        },
        "id": "N4Q0laaL-1wX",
        "outputId": "5ef87607-e336-40ad-b31c-3809b06b6520"
      },
      "execution_count": null,
      "outputs": [
        {
          "output_type": "display_data",
          "data": {
            "text/plain": [
              "<Figure size 640x480 with 2 Axes>"
            ],
            "image/png": "[encoded data removed]"
          },
          "metadata": {}
        }
      ]
    }
  ]
}